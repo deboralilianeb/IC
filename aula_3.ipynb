{
 "cells": [
  {
   "cell_type": "code",
   "execution_count": null,
   "metadata": {},
   "outputs": [],
   "source": [
    "# aula 3 - ajuste do modelo\n",
    "# Débora Liliane Oliveira Borges"
   ]
  },
  {
   "cell_type": "code",
   "execution_count": 101,
   "metadata": {},
   "outputs": [
    {
     "data": {
      "image/png": "[encoded data removed]",
      "text/plain": [
       "<Figure size 432x288 with 1 Axes>"
      ]
     },
     "metadata": {
      "needs_background": "light"
     },
     "output_type": "display_data"
    }
   ],
   "source": [
    "import matplotlib.pyplot as plt\n",
    "import numpy as np\n",
    "import pandas\n",
    "from sklearn import linear_model\n",
    "from sklearn.datasets import load_diabetes\n",
    "from statsmodels.stats.diagnostic import normal_ad\n",
    "import numpy as np\n",
    "from sklearn import linear_model\n",
    "from sklearn.metrics import r2_score\n",
    "\n",
    "diabetes = load_diabetes()\n",
    "\n",
    "\n",
    "tabela = pandas.DataFrame(diabetes.data)\n",
    "tabela.columns = diabetes.feature_names\n",
    "tabela['y'] = diabetes.target\n",
    "\n",
    "y = tabela['y']\n",
    "\n",
    "plt.hist(y)\n",
    "plt.title('Histograma de y')\n",
    "plt.show()"
   ]
  },
  {
   "cell_type": "code",
   "execution_count": 102,
   "metadata": {},
   "outputs": [
    {
     "data": {
      "text/html": [
       "<div>\n",
       "<style scoped>\n",
       "    .dataframe tbody tr th:only-of-type {\n",
       "        vertical-align: middle;\n",
       "    }\n",
       "\n",
       "    .dataframe tbody tr th {\n",
       "        vertical-align: top;\n",
       "    }\n",
       "\n",
       "    .dataframe thead th {\n",
       "        text-align: right;\n",
       "    }\n",
       "</style>\n",
       "<table border=\"1\" class=\"dataframe\">\n",
       "  <thead>\n",
       "    <tr style=\"text-align: right;\">\n",
       "      <th></th>\n",
       "      <th>age</th>\n",
       "      <th>sex</th>\n",
       "      <th>bmi</th>\n",
       "      <th>bp</th>\n",
       "      <th>s1</th>\n",
       "      <th>s2</th>\n",
       "      <th>s3</th>\n",
       "      <th>s4</th>\n",
       "      <th>s5</th>\n",
       "      <th>s6</th>\n",
       "      <th>y</th>\n",
       "    </tr>\n",
       "  </thead>\n",
       "  <tbody>\n",
       "    <tr>\n",
       "      <th>0</th>\n",
       "      <td>0.038076</td>\n",
       "      <td>0.050680</td>\n",
       "      <td>0.061696</td>\n",
       "      <td>0.021872</td>\n",
       "      <td>-0.044223</td>\n",
       "      <td>-0.034821</td>\n",
       "      <td>-0.043401</td>\n",
       "      <td>-0.002592</td>\n",
       "      <td>0.019908</td>\n",
       "      <td>-0.017646</td>\n",
       "      <td>151.0</td>\n",
       "    </tr>\n",
       "    <tr>\n",
       "      <th>1</th>\n",
       "      <td>-0.001882</td>\n",
       "      <td>-0.044642</td>\n",
       "      <td>-0.051474</td>\n",
       "      <td>-0.026328</td>\n",
       "      <td>-0.008449</td>\n",
       "      <td>-0.019163</td>\n",
       "      <td>0.074412</td>\n",
       "      <td>-0.039493</td>\n",
       "      <td>-0.068330</td>\n",
       "      <td>-0.092204</td>\n",
       "      <td>75.0</td>\n",
       "    </tr>\n",
       "    <tr>\n",
       "      <th>2</th>\n",
       "      <td>0.085299</td>\n",
       "      <td>0.050680</td>\n",
       "      <td>0.044451</td>\n",
       "      <td>-0.005671</td>\n",
       "      <td>-0.045599</td>\n",
       "      <td>-0.034194</td>\n",
       "      <td>-0.032356</td>\n",
       "      <td>-0.002592</td>\n",
       "      <td>0.002864</td>\n",
       "      <td>-0.025930</td>\n",
       "      <td>141.0</td>\n",
       "    </tr>\n",
       "    <tr>\n",
       "      <th>3</th>\n",
       "      <td>-0.089063</td>\n",
       "      <td>-0.044642</td>\n",
       "      <td>-0.011595</td>\n",
       "      <td>-0.036656</td>\n",
       "      <td>0.012191</td>\n",
       "      <td>0.024991</td>\n",
       "      <td>-0.036038</td>\n",
       "      <td>0.034309</td>\n",
       "      <td>0.022692</td>\n",
       "      <td>-0.009362</td>\n",
       "      <td>206.0</td>\n",
       "    </tr>\n",
       "    <tr>\n",
       "      <th>4</th>\n",
       "      <td>0.005383</td>\n",
       "      <td>-0.044642</td>\n",
       "      <td>-0.036385</td>\n",
       "      <td>0.021872</td>\n",
       "      <td>0.003935</td>\n",
       "      <td>0.015596</td>\n",
       "      <td>0.008142</td>\n",
       "      <td>-0.002592</td>\n",
       "      <td>-0.031991</td>\n",
       "      <td>-0.046641</td>\n",
       "      <td>135.0</td>\n",
       "    </tr>\n",
       "  </tbody>\n",
       "</table>\n",
       "</div>"
      ],
      "text/plain": [
       "        age       sex       bmi        bp        s1        s2        s3  \\\n",
       "0  0.038076  0.050680  0.061696  0.021872 -0.044223 -0.034821 -0.043401   \n",
       "1 -0.001882 -0.044642 -0.051474 -0.026328 -0.008449 -0.019163  0.074412   \n",
       "2  0.085299  0.050680  0.044451 -0.005671 -0.045599 -0.034194 -0.032356   \n",
       "3 -0.089063 -0.044642 -0.011595 -0.036656  0.012191  0.024991 -0.036038   \n",
       "4  0.005383 -0.044642 -0.036385  0.021872  0.003935  0.015596  0.008142   \n",
       "\n",
       "         s4        s5        s6      y  \n",
       "0 -0.002592  0.019908 -0.017646  151.0  \n",
       "1 -0.039493 -0.068330 -0.092204   75.0  \n",
       "2 -0.002592  0.002864 -0.025930  141.0  \n",
       "3  0.034309  0.022692 -0.009362  206.0  \n",
       "4 -0.002592 -0.031991 -0.046641  135.0  "
      ]
     },
     "execution_count": 102,
     "metadata": {},
     "output_type": "execute_result"
    }
   ],
   "source": [
    "tabela['y'] = diabetes.target\n",
    "tabela.head(5)"
   ]
  },
  {
   "cell_type": "code",
   "execution_count": null,
   "metadata": {},
   "outputs": [],
   "source": []
  },
  {
   "cell_type": "code",
   "execution_count": 50,
   "metadata": {},
   "outputs": [
    {
     "data": {
      "text/plain": [
       "LinearRegression()"
      ]
     },
     "execution_count": 50,
     "metadata": {},
     "output_type": "execute_result"
    }
   ],
   "source": []
  },
  {
   "cell_type": "markdown",
   "metadata": {},
   "source": [
    "Variável Sexo"
   ]
  },
  {
   "cell_type": "code",
   "execution_count": 144,
   "metadata": {},
   "outputs": [
    {
     "data": {
      "text/plain": [
       "LinearRegression()"
      ]
     },
     "execution_count": 144,
     "metadata": {},
     "output_type": "execute_result"
    }
   ],
   "source": [
    "Xsex = tabela['sex']\n",
    "Xsex_treinamento = Xsex[:-20].array.to_numpy().reshape(-1,1)\n",
    "Xsex_teste = Xsex[-20:].array.to_numpy().reshape(-1,1)\n",
    "\n",
    "ysex = tabela['y']\n",
    "ysex_treinamento = ysex[:-20]\n",
    "ysex_teste = ysex[-20:].array.to_numpy().reshape(-1,1)\n",
    "\n",
    "\n",
    "regrSex = linear_model.LinearRegression()\n",
    "\n",
    "regrSex.fit(Xsex_treinamento, ysex_treinamento)\n"
   ]
  },
  {
   "cell_type": "code",
   "execution_count": 143,
   "metadata": {},
   "outputs": [
    {
     "data": {
      "image/png": "[encoded data removed]",
      "text/plain": [
       "<Figure size 432x288 with 1 Axes>"
      ]
     },
     "metadata": {
      "needs_background": "light"
     },
     "output_type": "display_data"
    }
   ],
   "source": [
    "diabetes_y_predSex = regrbp.predict(Xsex_teste)\n",
    "\n",
    "resSex = ysex_teste - diabetes_y_predSex.reshape(-1,1)\n",
    "\n",
    "plt.hist(resSex)\n",
    "plt.title('Histograma dos resíduos da regressão')\n",
    "plt.show()"
   ]
  },
  {
   "cell_type": "code",
   "execution_count": 145,
   "metadata": {},
   "outputs": [
    {
     "name": "stdout",
     "output_type": "stream",
     "text": [
      "p-value abaixo 0.05 geralmente significa não normal: 0.03\n"
     ]
    }
   ],
   "source": [
    "#Calculando a normalidade\n",
    "\n",
    "p_valueSex = normal_ad(resSex)[1]\n",
    "print('p-value abaixo 0.05 geralmente significa não normal:', round(p_valueSex[0],2))"
   ]
  },
  {
   "cell_type": "code",
   "execution_count": 146,
   "metadata": {},
   "outputs": [
    {
     "data": {
      "image/png": "[encoded data removed]",
      "text/plain": [
       "<Figure size 432x288 with 1 Axes>"
      ]
     },
     "metadata": {
      "needs_background": "light"
     },
     "output_type": "display_data"
    }
   ],
   "source": [
    "#GRáfico de resíduos\n",
    "plt.scatter(y=resSex, x=diabetes_y_predSex, color='green', s=50, alpha=.6)\n",
    "plt.hlines(y=0, xmin=-40, xmax=200, color='red')\n",
    "plt.ylabel('$ Resíduos')\n",
    "plt.xlabel('$y Predito')\n",
    "plt.title ('Gráficos de Resíduos')\n",
    "plt.show()"
   ]
  },
  {
   "cell_type": "code",
   "execution_count": 147,
   "metadata": {},
   "outputs": [
    {
     "data": {
      "text/plain": [
       "-0.20161401403232349"
      ]
     },
     "execution_count": 147,
     "metadata": {},
     "output_type": "execute_result"
    }
   ],
   "source": [
    "r2_score(ysex_teste, diabetes_y_predSex)\n"
   ]
  },
  {
   "cell_type": "code",
   "execution_count": null,
   "metadata": {},
   "outputs": [],
   "source": []
  },
  {
   "cell_type": "markdown",
   "metadata": {},
   "source": [
    "Variável bp"
   ]
  },
  {
   "cell_type": "code",
   "execution_count": 158,
   "metadata": {},
   "outputs": [
    {
     "data": {
      "image/png": "[encoded data removed]",
      "text/plain": [
       "<Figure size 432x288 with 1 Axes>"
      ]
     },
     "metadata": {
      "needs_background": "light"
     },
     "output_type": "display_data"
    }
   ],
   "source": [
    "Xbp = tabela['bp']\n",
    "Xbp_treinamento = Xbp[:-20].array.to_numpy().reshape(-1,1)\n",
    "Xbp_teste = Xbp[-20:].array.to_numpy().reshape(-1,1)\n",
    "\n",
    "ybp = tabela['y']\n",
    "ybp_treinamento = ybp[:-20]\n",
    "ybp_teste = ybp[-20:].array.to_numpy().reshape(-1,1)\n",
    "\n",
    "\n",
    "regrbp = linear_model.LinearRegression()\n",
    "\n",
    "regrbp.fit(Xbp_treinamento, ybp_treinamento)\n",
    "diabetes_y_predbp = regrbp.predict(Xbp_teste)\n",
    "\n",
    "resbp = ybp_teste - diabetes_y_predbp.reshape(-1,1)\n",
    "\n",
    "plt.hist(resbp)\n",
    "plt.title('Histograma dos resíduos da regressão')\n",
    "plt.show()"
   ]
  },
  {
   "cell_type": "code",
   "execution_count": null,
   "metadata": {},
   "outputs": [],
   "source": []
  },
  {
   "cell_type": "code",
   "execution_count": 138,
   "metadata": {},
   "outputs": [
    {
     "name": "stdout",
     "output_type": "stream",
     "text": [
      "p-value abaixo 0.05 geralmente significa não normal: 0.09\n"
     ]
    }
   ],
   "source": [
    "#Calculando a normalidade\n",
    "\n",
    "p_valuebp = normal_ad(resbp)[1]\n",
    "print('p-value abaixo 0.05 geralmente significa não normal:', round(p_valuebp[0],2))"
   ]
  },
  {
   "cell_type": "code",
   "execution_count": 139,
   "metadata": {},
   "outputs": [
    {
     "data": {
      "image/png": "[encoded data removed]",
      "text/plain": [
       "<Figure size 432x288 with 1 Axes>"
      ]
     },
     "metadata": {
      "needs_background": "light"
     },
     "output_type": "display_data"
    }
   ],
   "source": [
    "#GRáfico de resíduos\n",
    "plt.scatter(y=resbp, x=diabetes_y_predbp, color='green', s=50, alpha=.6)\n",
    "plt.hlines(y=0, xmin=-40, xmax=200, color='red')\n",
    "plt.ylabel('$ Resíduos')\n",
    "plt.xlabel('$y Predito')\n",
    "plt.title ('Gráficos de Resíduos')\n",
    "plt.show()"
   ]
  },
  {
   "cell_type": "code",
   "execution_count": 140,
   "metadata": {},
   "outputs": [
    {
     "data": {
      "text/plain": [
       "0.027182285067902212"
      ]
     },
     "execution_count": 140,
     "metadata": {},
     "output_type": "execute_result"
    }
   ],
   "source": [
    "r2_score(ybp_teste, diabetes_y_predbp)\n"
   ]
  },
  {
   "cell_type": "markdown",
   "metadata": {},
   "source": [
    "Variável s1"
   ]
  },
  {
   "cell_type": "code",
   "execution_count": 141,
   "metadata": {},
   "outputs": [
    {
     "data": {
      "text/plain": [
       "LinearRegression()"
      ]
     },
     "execution_count": 141,
     "metadata": {},
     "output_type": "execute_result"
    }
   ],
   "source": [
    "Xs1 = tabela['s1']\n",
    "Xs1_treinamento = Xs1[:-20].array.to_numpy().reshape(-1,1)\n",
    "Xs1_teste = Xs1[-20:].array.to_numpy().reshape(-1,1)\n",
    "\n",
    "ys1 = tabela['y']\n",
    "ys1_treinamento = ys1[:-20]\n",
    "ys1_teste = ys1[-20:].array.to_numpy().reshape(-1,1)\n",
    "\n",
    "\n",
    "regrs1 = linear_model.LinearRegression()\n",
    "\n",
    "regrs1.fit(Xs1_treinamento, ys1_treinamento)"
   ]
  },
  {
   "cell_type": "code",
   "execution_count": 149,
   "metadata": {},
   "outputs": [
    {
     "data": {
      "image/png": "[encoded data removed]",
      "text/plain": [
       "<Figure size 432x288 with 1 Axes>"
      ]
     },
     "metadata": {
      "needs_background": "light"
     },
     "output_type": "display_data"
    }
   ],
   "source": [
    "diabetes_y_preds1 = regrs1.predict(Xs1_teste)\n",
    "\n",
    "ress1 = ys1_teste - diabetes_y_preds1.reshape(-1,1)\n",
    "\n",
    "plt.hist(ress1)\n",
    "plt.title('Histograma dos resíduos da regressão')\n",
    "plt.show()"
   ]
  },
  {
   "cell_type": "code",
   "execution_count": 150,
   "metadata": {},
   "outputs": [
    {
     "name": "stdout",
     "output_type": "stream",
     "text": [
      "p-value abaixo 0.05 geralmente significa não normal: 0.11\n"
     ]
    }
   ],
   "source": [
    "#Calculando a normalidade\n",
    "\n",
    "p_values1 = normal_ad(ress1)[1]\n",
    "print('p-value abaixo 0.05 geralmente significa não normal:', round(p_values1[0],2))"
   ]
  },
  {
   "cell_type": "code",
   "execution_count": 151,
   "metadata": {},
   "outputs": [
    {
     "data": {
      "image/png": "[encoded data removed]",
      "text/plain": [
       "<Figure size 432x288 with 1 Axes>"
      ]
     },
     "metadata": {
      "needs_background": "light"
     },
     "output_type": "display_data"
    }
   ],
   "source": [
    "#GRáfico de resíduos\n",
    "plt.scatter(y=ress1, x=diabetes_y_preds1, color='green', s=50, alpha=.6)\n",
    "plt.hlines(y=0, xmin=-10, xmax=200, color='red')\n",
    "plt.ylabel('$ Resíduos')\n",
    "plt.xlabel('$y Predito')\n",
    "plt.title ('Gráficos de Resíduos')\n",
    "plt.show()"
   ]
  },
  {
   "cell_type": "code",
   "execution_count": 152,
   "metadata": {},
   "outputs": [
    {
     "data": {
      "text/plain": [
       "-0.16094176987655562"
      ]
     },
     "execution_count": 152,
     "metadata": {},
     "output_type": "execute_result"
    }
   ],
   "source": [
    "r2_score(ys1_teste, diabetes_y_preds1)\n"
   ]
  },
  {
   "cell_type": "markdown",
   "metadata": {},
   "source": [
    "Variável s2"
   ]
  },
  {
   "cell_type": "code",
   "execution_count": 153,
   "metadata": {},
   "outputs": [
    {
     "data": {
      "text/plain": [
       "LinearRegression()"
      ]
     },
     "execution_count": 153,
     "metadata": {},
     "output_type": "execute_result"
    }
   ],
   "source": [
    "Xs2 = tabela['s2']\n",
    "Xs2_treinamento = Xs2[:-20].array.to_numpy().reshape(-1,1)\n",
    "Xs2_teste = Xs2[-20:].array.to_numpy().reshape(-1,1)\n",
    "\n",
    "ys2 = tabela['y']\n",
    "ys2_treinamento = ys2[:-20]\n",
    "ys2_teste = ys2[-20:].array.to_numpy().reshape(-1,1)\n",
    "\n",
    "\n",
    "regrs2 = linear_model.LinearRegression()\n",
    "\n",
    "regrs2.fit(Xs2_treinamento, ys2_treinamento)"
   ]
  },
  {
   "cell_type": "code",
   "execution_count": 155,
   "metadata": {},
   "outputs": [
    {
     "data": {
      "image/png": "[encoded data removed]",
      "text/plain": [
       "<Figure size 432x288 with 1 Axes>"
      ]
     },
     "metadata": {
      "needs_background": "light"
     },
     "output_type": "display_data"
    }
   ],
   "source": [
    "diabetes_y_preds2 = regrs2.predict(Xs2_teste)\n",
    "\n",
    "ress2 = ys2_teste - diabetes_y_preds2.reshape(-1,1)\n",
    "\n",
    "plt.hist(ress2)\n",
    "plt.title('Histograma dos resíduos da regressão')\n",
    "plt.show()"
   ]
  },
  {
   "cell_type": "code",
   "execution_count": 156,
   "metadata": {},
   "outputs": [
    {
     "name": "stdout",
     "output_type": "stream",
     "text": [
      "p-value abaixo 0.05 geralmente significa não normal: 0.02\n"
     ]
    }
   ],
   "source": [
    "#Calculando a normalidade\n",
    "\n",
    "p_values2 = normal_ad(ress2)[1]\n",
    "print('p-value abaixo 0.05 geralmente significa não normal:', round(p_values2[0],2))"
   ]
  },
  {
   "cell_type": "code",
   "execution_count": 125,
   "metadata": {},
   "outputs": [
    {
     "data": {
      "image/png": "[encoded data removed]",
      "text/plain": [
       "<Figure size 432x288 with 1 Axes>"
      ]
     },
     "metadata": {
      "needs_background": "light"
     },
     "output_type": "display_data"
    }
   ],
   "source": [
    "#GRáfico de resíduos\n",
    "plt.scatter(y=ress2, x=diabetes_y_preds2, color='green', s=50, alpha=.6)\n",
    "plt.hlines(y=0, xmin=-10, xmax=200, color='red')\n",
    "plt.ylabel('$ Resíduos')\n",
    "plt.xlabel('$y Predito')\n",
    "plt.title ('Gráficos de Resíduos')\n",
    "plt.show()"
   ]
  },
  {
   "cell_type": "code",
   "execution_count": 126,
   "metadata": {},
   "outputs": [
    {
     "data": {
      "text/plain": [
       "-0.15171870558113"
      ]
     },
     "execution_count": 126,
     "metadata": {},
     "output_type": "execute_result"
    }
   ],
   "source": [
    "r2_score(ys2_teste, diabetes_y_preds2)\n"
   ]
  },
  {
   "cell_type": "markdown",
   "metadata": {},
   "source": [
    "Variavel s3\n"
   ]
  },
  {
   "cell_type": "code",
   "execution_count": 159,
   "metadata": {},
   "outputs": [
    {
     "data": {
      "image/png": "[encoded data removed]",
      "text/plain": [
       "<Figure size 432x288 with 1 Axes>"
      ]
     },
     "metadata": {
      "needs_background": "light"
     },
     "output_type": "display_data"
    }
   ],
   "source": [
    "Xs3 = tabela['s3']\n",
    "Xs3_treinamento = Xs3[:-20].array.to_numpy().reshape(-1,1)\n",
    "Xs3_teste = Xs3[-20:].array.to_numpy().reshape(-1,1)\n",
    "\n",
    "ys3 = tabela['y']\n",
    "ys3_treinamento = ys3[:-20]\n",
    "ys3_teste = ys3[-20:].array.to_numpy().reshape(-1,1)\n",
    "\n",
    "\n",
    "regrs3 = linear_model.LinearRegression()\n",
    "\n",
    "regrs3.fit(Xs3_treinamento, ys3_treinamento)\n",
    "\n",
    "diabetes_y_preds3 = regrs3.predict(Xs3_teste)\n",
    "\n",
    "ress3 = ys3_teste - diabetes_y_preds3.reshape(-1,1)\n",
    "\n",
    "plt.hist(ress3)\n",
    "plt.title('Histograma dos resíduos da regressão')\n",
    "plt.show()"
   ]
  },
  {
   "cell_type": "code",
   "execution_count": 160,
   "metadata": {},
   "outputs": [
    {
     "name": "stdout",
     "output_type": "stream",
     "text": [
      "p-value abaixo 0.05 geralmente significa não normal: 0.32\n"
     ]
    }
   ],
   "source": [
    "#Calculando a normalidade\n",
    "\n",
    "p_values3 = normal_ad(ress3)[1]\n",
    "print('p-value abaixo 0.05 geralmente significa não normal:', round(p_values3[0],2))"
   ]
  },
  {
   "cell_type": "code",
   "execution_count": 161,
   "metadata": {},
   "outputs": [
    {
     "data": {
      "image/png": "[encoded data removed]",
      "text/plain": [
       "<Figure size 432x288 with 1 Axes>"
      ]
     },
     "metadata": {
      "needs_background": "light"
     },
     "output_type": "display_data"
    }
   ],
   "source": [
    "#GRáfico de resíduos\n",
    "plt.scatter(y=ress3, x=diabetes_y_preds3, color='green', s=50, alpha=.6)\n",
    "plt.hlines(y=0, xmin=-10, xmax=200, color='red')\n",
    "plt.ylabel('$ Resíduos')\n",
    "plt.xlabel('$y Predito')\n",
    "plt.title ('Gráficos de Resíduos')\n",
    "plt.show()"
   ]
  },
  {
   "cell_type": "code",
   "execution_count": 162,
   "metadata": {},
   "outputs": [
    {
     "data": {
      "text/plain": [
       "0.060610607792839555"
      ]
     },
     "execution_count": 162,
     "metadata": {},
     "output_type": "execute_result"
    }
   ],
   "source": [
    "r2_score(ys3_teste, diabetes_y_preds3)\n"
   ]
  },
  {
   "cell_type": "markdown",
   "metadata": {},
   "source": [
    "Variável s4"
   ]
  },
  {
   "cell_type": "code",
   "execution_count": 168,
   "metadata": {},
   "outputs": [
    {
     "data": {
      "image/png": "[encoded data removed]",
      "text/plain": [
       "<Figure size 432x288 with 1 Axes>"
      ]
     },
     "metadata": {
      "needs_background": "light"
     },
     "output_type": "display_data"
    }
   ],
   "source": [
    "Xs4 = tabela['s4']\n",
    "Xs4_treinamento = Xs4[:-20].array.to_numpy().reshape(-1,1)\n",
    "Xs4_teste = Xs4[-20:].array.to_numpy().reshape(-1,1)\n",
    "\n",
    "ys4 = tabela['y']\n",
    "ys4_treinamento = ys4[:-20]\n",
    "ys4_teste = ys4[-20:].array.to_numpy().reshape(-1,1)\n",
    "\n",
    "\n",
    "regrs4 = linear_model.LinearRegression()\n",
    "\n",
    "regrs4.fit(Xs4_treinamento, ys4_treinamento)\n",
    "\n",
    "diabetes_y_preds4 = regrs4.predict(Xs4_teste)\n",
    "\n",
    "ress4 = ys4_teste - diabetes_y_preds4.reshape(-1,1)\n",
    "\n",
    "\n",
    "plt.hist(ress4)\n",
    "plt.title('Histograma dos resíduos da regressão')\n",
    "plt.show()"
   ]
  },
  {
   "cell_type": "code",
   "execution_count": 169,
   "metadata": {},
   "outputs": [
    {
     "name": "stdout",
     "output_type": "stream",
     "text": [
      "p-value abaixo 0.05 geralmente significa não normal: 0.05\n"
     ]
    }
   ],
   "source": [
    "#Calculando a normalidade\n",
    "\n",
    "p_values4 = normal_ad(ress4)[1]\n",
    "print('p-value abaixo 0.05 geralmente significa não normal:', round(p_values4[0],2))"
   ]
  },
  {
   "cell_type": "code",
   "execution_count": 170,
   "metadata": {},
   "outputs": [
    {
     "data": {
      "image/png": "[encoded data removed]",
      "text/plain": [
       "<Figure size 432x288 with 1 Axes>"
      ]
     },
     "metadata": {
      "needs_background": "light"
     },
     "output_type": "display_data"
    }
   ],
   "source": [
    "#GRáfico de resíduos\n",
    "plt.scatter(y=ress4, x=diabetes_y_preds4, color='green', s=50, alpha=.6)\n",
    "plt.hlines(y=0, xmin=-10, xmax=200, color='red')\n",
    "plt.ylabel('$ Resíduos')\n",
    "plt.xlabel('$y Predito')\n",
    "plt.title ('Gráficos de Resíduos')\n",
    "plt.show()"
   ]
  },
  {
   "cell_type": "code",
   "execution_count": 171,
   "metadata": {},
   "outputs": [
    {
     "data": {
      "text/plain": [
       "-0.004070338973065635"
      ]
     },
     "execution_count": 171,
     "metadata": {},
     "output_type": "execute_result"
    }
   ],
   "source": [
    "r2_score(ys4_teste, diabetes_y_preds4)\n"
   ]
  },
  {
   "cell_type": "code",
   "execution_count": 172,
   "metadata": {},
   "outputs": [
    {
     "data": {
      "image/png": "[encoded data removed]",
      "text/plain": [
       "<Figure size 432x288 with 1 Axes>"
      ]
     },
     "metadata": {
      "needs_background": "light"
     },
     "output_type": "display_data"
    }
   ],
   "source": [
    "Xs5 = tabela['s5']\n",
    "Xs5_treinamento = Xs5[:-20].array.to_numpy().reshape(-1,1)\n",
    "Xs5_teste = Xs5[-20:].array.to_numpy().reshape(-1,1)\n",
    "\n",
    "ys5 = tabela['y']\n",
    "ys5_treinamento = ys5[:-20]\n",
    "ys5_teste = ys5[-20:].array.to_numpy().reshape(-1,1)\n",
    "\n",
    "\n",
    "regrs5 = linear_model.LinearRegression()\n",
    "\n",
    "regrs5.fit(Xs5_treinamento, ys5_treinamento)\n",
    "\n",
    "diabetes_y_preds5 = regrs5.predict(Xs5_teste)\n",
    "\n",
    "ress5 = ys5_teste - diabetes_y_preds5.reshape(-1,1)\n",
    "\n",
    "\n",
    "plt.hist(ress5)\n",
    "plt.title('Histograma dos resíduos da regressão')\n",
    "plt.show()"
   ]
  },
  {
   "cell_type": "code",
   "execution_count": 173,
   "metadata": {},
   "outputs": [
    {
     "name": "stdout",
     "output_type": "stream",
     "text": [
      "p-value abaixo 0.05 geralmente significa não normal: 0.09\n"
     ]
    }
   ],
   "source": [
    "#Calculando a normalidade\n",
    "\n",
    "p_values5 = normal_ad(ress5)[1]\n",
    "print('p-value abaixo 0.05 geralmente significa não normal:', round(p_values5[0],2))"
   ]
  },
  {
   "cell_type": "code",
   "execution_count": 175,
   "metadata": {},
   "outputs": [
    {
     "data": {
      "image/png": "[encoded data removed]",
      "text/plain": [
       "<Figure size 432x288 with 1 Axes>"
      ]
     },
     "metadata": {
      "needs_background": "light"
     },
     "output_type": "display_data"
    }
   ],
   "source": [
    "#GRáfico de resíduos\n",
    "plt.scatter(y=ress5, x=diabetes_y_preds5, color='green', s=50, alpha=.6)\n",
    "plt.hlines(y=0, xmin=-10, xmax=200, color='red')\n",
    "plt.ylabel('$ Resíduos')\n",
    "plt.xlabel('$y Predito')\n",
    "plt.title ('Gráficos de Resíduos')\n",
    "plt.show()"
   ]
  },
  {
   "cell_type": "code",
   "execution_count": 177,
   "metadata": {},
   "outputs": [
    {
     "data": {
      "text/plain": [
       "0.3948984231023219"
      ]
     },
     "execution_count": 177,
     "metadata": {},
     "output_type": "execute_result"
    }
   ],
   "source": [
    "r2_score(ys5_teste, diabetes_y_preds5)\n"
   ]
  },
  {
   "cell_type": "markdown",
   "metadata": {},
   "source": [
    "Variável s6"
   ]
  },
  {
   "cell_type": "code",
   "execution_count": 178,
   "metadata": {},
   "outputs": [
    {
     "data": {
      "image/png": "[encoded data removed]",
      "text/plain": [
       "<Figure size 432x288 with 1 Axes>"
      ]
     },
     "metadata": {
      "needs_background": "light"
     },
     "output_type": "display_data"
    }
   ],
   "source": [
    "Xs6 = tabela['s6']\n",
    "Xs6_treinamento = Xs6[:-20].array.to_numpy().reshape(-1,1)\n",
    "Xs6_teste = Xs6[-20:].array.to_numpy().reshape(-1,1)\n",
    "\n",
    "ys6 = tabela['y']\n",
    "ys6_treinamento = ys6[:-20]\n",
    "ys6_teste = ys6[-20:].array.to_numpy().reshape(-1,1)\n",
    "\n",
    "\n",
    "regrs6 = linear_model.LinearRegression()\n",
    "\n",
    "regrs6.fit(Xs6_treinamento, ys6_treinamento)\n",
    "\n",
    "diabetes_y_preds6 = regrs6.predict(Xs6_teste)\n",
    "\n",
    "ress6 = ys6_teste - diabetes_y_preds6.reshape(-1,1)\n",
    "\n",
    "\n",
    "plt.hist(ress6)\n",
    "plt.title('Histograma dos resíduos da regressão')\n",
    "plt.show()"
   ]
  },
  {
   "cell_type": "code",
   "execution_count": 179,
   "metadata": {},
   "outputs": [
    {
     "name": "stdout",
     "output_type": "stream",
     "text": [
      "p-value abaixo 0.05 geralmente significa não normal: 0.04\n"
     ]
    }
   ],
   "source": [
    "#Calculando a normalidade\n",
    "\n",
    "p_values6 = normal_ad(ress6)[1]\n",
    "print('p-value abaixo 0.05 geralmente significa não normal:', round(p_values6[0],2))"
   ]
  },
  {
   "cell_type": "code",
   "execution_count": 181,
   "metadata": {},
   "outputs": [
    {
     "data": {
      "image/png": "[encoded data removed]",
      "text/plain": [
       "<Figure size 432x288 with 1 Axes>"
      ]
     },
     "metadata": {
      "needs_background": "light"
     },
     "output_type": "display_data"
    }
   ],
   "source": [
    "#GRáfico de resíduos\n",
    "plt.scatter(y=ress6, x=diabetes_y_preds6, color='green', s=50, alpha=.6)\n",
    "plt.hlines(y=0, xmin=-5, xmax=250, color='red')\n",
    "plt.ylabel('$ Resíduos')\n",
    "plt.xlabel('$y Predito')\n",
    "plt.title ('Gráficos de Resíduos')\n",
    "plt.show()"
   ]
  },
  {
   "cell_type": "code",
   "execution_count": 182,
   "metadata": {},
   "outputs": [
    {
     "data": {
      "text/plain": [
       "-0.08990371992812851"
      ]
     },
     "execution_count": 182,
     "metadata": {},
     "output_type": "execute_result"
    }
   ],
   "source": [
    "r2_score(ys6_teste, diabetes_y_preds6)\n"
   ]
  },
  {
   "cell_type": "markdown",
   "metadata": {},
   "source": [
    "Para as duas variáveis escolhidas na aula anterior:"
   ]
  },
  {
   "cell_type": "code",
   "execution_count": 185,
   "metadata": {},
   "outputs": [
    {
     "data": {
      "image/png": "[encoded data removed]",
      "text/plain": [
       "<Figure size 432x288 with 1 Axes>"
      ]
     },
     "metadata": {
      "needs_background": "light"
     },
     "output_type": "display_data"
    }
   ],
   "source": [
    "X3 = tabela[[\"sex\", \"bp\"]]\n",
    "X3_treinamento = X3[:-20]\n",
    "X3_teste = X3[-20:]\n",
    "\n",
    "y3_treinamento = tabela[\"y\"][:-20]\n",
    "y3_teste = tabela[\"y\"][-20:]\n",
    "\n",
    "regr = linear_model.LinearRegression()\n",
    "\n",
    "regr.fit(X3_treinamento, y3_treinamento)\n",
    "\n",
    "y_pred = regr.predict(X3_teste)\n",
    "\n",
    "res3 = y_teste - y_pred.reshape(-1,1)\n",
    "\n",
    "plt.hist(res3)\n",
    "plt.title('Histograma dos resíduos da regressão')\n",
    "plt.show()\n"
   ]
  },
  {
   "cell_type": "code",
   "execution_count": 186,
   "metadata": {},
   "outputs": [
    {
     "name": "stdout",
     "output_type": "stream",
     "text": [
      "p-value abaixo 0.05 geralmente significa não normal: 0.21\n"
     ]
    }
   ],
   "source": [
    "#Calculando a normalidade\n",
    "\n",
    "p_values3 = normal_ad(res3)[1]\n",
    "print('p-value abaixo 0.05 geralmente significa não normal:', round(p_values3[0],2))"
   ]
  },
  {
   "cell_type": "code",
   "execution_count": 187,
   "metadata": {},
   "outputs": [
    {
     "data": {
      "image/png": "[encoded data removed]",
      "text/plain": [
       "<Figure size 432x288 with 1 Axes>"
      ]
     },
     "metadata": {
      "needs_background": "light"
     },
     "output_type": "display_data"
    }
   ],
   "source": [
    "#GRáfico de resíduos\n",
    "plt.scatter(y=res3, x=y_pred, color='green', s=50, alpha=.6)\n",
    "plt.hlines(y=0, xmin=-5, xmax=250, color='red')\n",
    "plt.ylabel('$ Resíduos')\n",
    "plt.xlabel('$y Predito')\n",
    "plt.title ('Gráficos de Resíduos')\n",
    "plt.show()"
   ]
  },
  {
   "cell_type": "code",
   "execution_count": 188,
   "metadata": {},
   "outputs": [
    {
     "data": {
      "text/plain": [
       "0.17256191085870665"
      ]
     },
     "execution_count": 188,
     "metadata": {},
     "output_type": "execute_result"
    }
   ],
   "source": [
    "r2_score(y3_teste,y_pred )"
   ]
  },
  {
   "cell_type": "code",
   "execution_count": null,
   "metadata": {},
   "outputs": [],
   "source": []
  }
 ],
 "metadata": {
  "kernelspec": {
   "display_name": "Python 3",
   "language": "python",
   "name": "python3"
  },
  "language_info": {
   "codemirror_mode": {
    "name": "ipython",
    "version": 3
   },
   "file_extension": ".py",
   "mimetype": "text/x-python",
   "name": "python",
   "nbconvert_exporter": "python",
   "pygments_lexer": "ipython3",
   "version": "3.7.3"
  }
 },
 "nbformat": 4,
 "nbformat_minor": 4
}
