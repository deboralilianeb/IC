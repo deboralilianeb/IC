{
 "cells": [
  {
   "cell_type": "markdown",
   "metadata": {},
   "source": [
    "Base de Dados: ENADE 2018 e 2019\n",
    "\n",
    "Objetivo: Analisar a influencia de características como cor da pele, escolaridade da mãe, renda familiar e tipo de escola que cursou o ensino médio na nota geral"
   ]
  },
  {
   "cell_type": "code",
   "execution_count": null,
   "metadata": {},
   "outputs": [],
   "source": []
  },
  {
   "cell_type": "code",
   "execution_count": 164,
   "metadata": {},
   "outputs": [],
   "source": [
    "import pandas as pd\n",
    "import numpy as np\n",
    "import matplotlib.pyplot as plt\n"
   ]
  },
  {
   "cell_type": "markdown",
   "metadata": {},
   "source": [
    "#QE_I02 --> cor/raça\n",
    "       A = Branca.\n",
    "       B = Preta.\n",
    "       C = Amarela.\n",
    "       D = Parda.\n",
    "       E = Indígena.\n",
    "       F = Não quero declarar.\n",
    "       \n",
    "#QE_I05 -->Escolaridade da mãe\n",
    "      A = Nenhuma.\n",
    "      B = Ensino Fundamental: 1º ao 5º ano (1ª a 4ª série).\n",
    "      C = Ensino Fundamental: 6º ao 9º ano (5ª a 8ª série).\n",
    "      D = Ensino médio.\n",
    "      E = Ensino Superior - Graduação.\n",
    "      F = Pós-graduação.\n",
    "      \n",
    "#QE_I08 --> Renda Familiar\n",
    "    A = Até 1,5 salário mínimo (até R$ 1.431,00).\n",
    "    B = De 1,5 a 3 salários mínimos (R$ 1.431,01 a R$ 2.862,00).\n",
    "    C = De 3 a 4,5 salários mínimos (R$ 2.862,01 a R$ 4.293,00).\n",
    "    D = De 4,5 a 6 salários mínimos (R$ 4.293,01 a R$ 5.724,00).\n",
    "    E = De 6 a 10 salários mínimos (R$ 5.724,01 a R$ 9.540,00).\n",
    "    F = De 10 a 30 salários mínimos (R$ 9.540,01 a R$ 28.620,00).\n",
    "    G = Acima de 30 salários mínimos (mais de R$ 28.620,00).\n",
    "\n",
    "#QE_I17 --> Tipo de escola que cursou o Ensino Médio\n",
    "    A = Todo em escola pública.\n",
    "    B = Todo em escola privada (particular).\n",
    "    C = Todo no exterior.\n",
    "    D = A maior parte em escola pública.\n",
    "    E = A maior parte em escola privada (particular).\n",
    "    F = Parte no Brasil e parte no exterior.\n",
    "\n",
    "\n",
    "\n"
   ]
  },
  {
   "cell_type": "code",
   "execution_count": 165,
   "metadata": {},
   "outputs": [
    {
     "name": "stderr",
     "output_type": "stream",
     "text": [
      "c:\\users\\debora\\appdata\\local\\programs\\python\\python37\\lib\\site-packages\\IPython\\core\\interactiveshell.py:3146: DtypeWarning: Columns (57,59) have mixed types.Specify dtype option on import or set low_memory=False.\n",
      "  interactivity=interactivity, compiler=compiler, result=result)\n"
     ]
    },
    {
     "data": {
      "text/plain": [
       "(433930, 137)"
      ]
     },
     "execution_count": 165,
     "metadata": {},
     "output_type": "execute_result"
    }
   ],
   "source": [
    "#QE_I02 --> cor/raça\n",
    "#QE_I05 -->Escolaridade da mãe\n",
    "#QE_I08 --> Renda Familiar\n",
    "#QE_I17 --> Tipo de escola que cursou o Ensino Médio\n",
    "#NT_GER --> Nota Geral\n",
    "#NT_FG  --> Nota bruta na formação geral \n",
    "#NT_OBJ_FG --> Nota bruta na parte objetiva da formação geral.\n",
    "\n",
    "\n",
    "\n",
    "\n",
    "enade2019= pd.read_csv(\"microdados_enade_2019.txt\", sep=';',dtype={\"QE_I02\": 'category', \n",
    "                                                                               'QE_I05':'category',\n",
    "                                                                              'QE_I08':'category',\n",
    "                                                                              'QE_I17':'category',\n",
    "                                                                              'NT_GER':str,\n",
    "                                                                              'NT_FG':str,\n",
    "                                                                              'NT_OBJ_FG':str,\n",
    "                                                                               })\n",
    "\n",
    "\n",
    "enade2019.shape\n",
    "\n"
   ]
  },
  {
   "cell_type": "code",
   "execution_count": null,
   "metadata": {},
   "outputs": [],
   "source": []
  },
  {
   "cell_type": "code",
   "execution_count": 166,
   "metadata": {},
   "outputs": [],
   "source": [
    "enade2019['QE_I02 - Grupos Cor Pele'] = enade2019['QE_I02'].cat.codes\n",
    "enade2019['QE_I05 - Grupos Escolaridade Mae'] = enade2019['QE_I05'].cat.codes\n",
    "enade2019['QE_I08 - Grupos Renda Familiar'] = enade2019['QE_I08'].cat.codes\n",
    "enade2019['QE_I17 - Grupos Tipo Escola E.M'] = enade2019['QE_I17'].cat.codes\n",
    "\n",
    "\n",
    "\n"
   ]
  },
  {
   "cell_type": "code",
   "execution_count": null,
   "metadata": {},
   "outputs": [],
   "source": []
  },
  {
   "cell_type": "code",
   "execution_count": null,
   "metadata": {},
   "outputs": [],
   "source": []
  },
  {
   "cell_type": "code",
   "execution_count": 167,
   "metadata": {},
   "outputs": [
    {
     "data": {
      "text/html": [
       "<div>\n",
       "<style scoped>\n",
       "    .dataframe tbody tr th:only-of-type {\n",
       "        vertical-align: middle;\n",
       "    }\n",
       "\n",
       "    .dataframe tbody tr th {\n",
       "        vertical-align: top;\n",
       "    }\n",
       "\n",
       "    .dataframe thead th {\n",
       "        text-align: right;\n",
       "    }\n",
       "</style>\n",
       "<table border=\"1\" class=\"dataframe\">\n",
       "  <thead>\n",
       "    <tr style=\"text-align: right;\">\n",
       "      <th></th>\n",
       "      <th>QE_I02 - Grupos Cor Pele</th>\n",
       "      <th>QE_I02</th>\n",
       "      <th>QE_I05</th>\n",
       "      <th>QE_I08</th>\n",
       "      <th>QE_I17</th>\n",
       "      <th>NT_GER</th>\n",
       "    </tr>\n",
       "  </thead>\n",
       "  <tbody>\n",
       "    <tr>\n",
       "      <th>0</th>\n",
       "      <td>3</td>\n",
       "      <td>C</td>\n",
       "      <td>E</td>\n",
       "      <td>B</td>\n",
       "      <td>B</td>\n",
       "      <td>51,9</td>\n",
       "    </tr>\n",
       "    <tr>\n",
       "      <th>1</th>\n",
       "      <td>1</td>\n",
       "      <td>A</td>\n",
       "      <td>D</td>\n",
       "      <td>E</td>\n",
       "      <td>B</td>\n",
       "      <td>54,2</td>\n",
       "    </tr>\n",
       "    <tr>\n",
       "      <th>2</th>\n",
       "      <td>1</td>\n",
       "      <td>A</td>\n",
       "      <td>E</td>\n",
       "      <td>E</td>\n",
       "      <td>A</td>\n",
       "      <td>NaN</td>\n",
       "    </tr>\n",
       "    <tr>\n",
       "      <th>3</th>\n",
       "      <td>4</td>\n",
       "      <td>D</td>\n",
       "      <td>F</td>\n",
       "      <td>E</td>\n",
       "      <td>B</td>\n",
       "      <td>42,1</td>\n",
       "    </tr>\n",
       "    <tr>\n",
       "      <th>4</th>\n",
       "      <td>0</td>\n",
       "      <td></td>\n",
       "      <td></td>\n",
       "      <td></td>\n",
       "      <td></td>\n",
       "      <td>NaN</td>\n",
       "    </tr>\n",
       "    <tr>\n",
       "      <th>5</th>\n",
       "      <td>1</td>\n",
       "      <td>A</td>\n",
       "      <td>E</td>\n",
       "      <td>C</td>\n",
       "      <td>B</td>\n",
       "      <td>49,3</td>\n",
       "    </tr>\n",
       "    <tr>\n",
       "      <th>6</th>\n",
       "      <td>1</td>\n",
       "      <td>A</td>\n",
       "      <td>E</td>\n",
       "      <td>E</td>\n",
       "      <td>B</td>\n",
       "      <td>49,6</td>\n",
       "    </tr>\n",
       "    <tr>\n",
       "      <th>7</th>\n",
       "      <td>1</td>\n",
       "      <td>A</td>\n",
       "      <td>E</td>\n",
       "      <td>D</td>\n",
       "      <td>B</td>\n",
       "      <td>43,6</td>\n",
       "    </tr>\n",
       "    <tr>\n",
       "      <th>8</th>\n",
       "      <td>1</td>\n",
       "      <td>A</td>\n",
       "      <td>F</td>\n",
       "      <td>E</td>\n",
       "      <td>B</td>\n",
       "      <td>55,3</td>\n",
       "    </tr>\n",
       "    <tr>\n",
       "      <th>9</th>\n",
       "      <td>2</td>\n",
       "      <td>B</td>\n",
       "      <td>F</td>\n",
       "      <td>D</td>\n",
       "      <td>A</td>\n",
       "      <td>61,6</td>\n",
       "    </tr>\n",
       "  </tbody>\n",
       "</table>\n",
       "</div>"
      ],
      "text/plain": [
       "   QE_I02 - Grupos Cor Pele QE_I02 QE_I05 QE_I08 QE_I17 NT_GER\n",
       "0                         3      C      E      B      B   51,9\n",
       "1                         1      A      D      E      B   54,2\n",
       "2                         1      A      E      E      A    NaN\n",
       "3                         4      D      F      E      B   42,1\n",
       "4                         0                                NaN\n",
       "5                         1      A      E      C      B   49,3\n",
       "6                         1      A      E      E      B   49,6\n",
       "7                         1      A      E      D      B   43,6\n",
       "8                         1      A      F      E      B   55,3\n",
       "9                         2      B      F      D      A   61,6"
      ]
     },
     "execution_count": 167,
     "metadata": {},
     "output_type": "execute_result"
    }
   ],
   "source": [
    "tabela = pd.DataFrame(enade2019, columns=['QE_I02 - Grupos Cor Pele','QE_I02', 'QE_I05', 'QE_I08','QE_I17', 'NT_GER'])\n",
    "tabela.head(10)"
   ]
  },
  {
   "cell_type": "code",
   "execution_count": 168,
   "metadata": {},
   "outputs": [
    {
     "data": {
      "text/plain": [
       "dict_keys(['C', 'A', 'D', ' ', 'B', 'F', 'E'])"
      ]
     },
     "execution_count": 168,
     "metadata": {},
     "output_type": "execute_result"
    }
   ],
   "source": [
    "from collections import Counter\n",
    "Counter(tabela['QE_I02']).values()\n",
    "\n",
    "Counter(tabela['QE_I02']).keys()"
   ]
  },
  {
   "cell_type": "code",
   "execution_count": 169,
   "metadata": {},
   "outputs": [
    {
     "name": "stdout",
     "output_type": "stream",
     "text": [
      "0         51.9\n",
      "1         54.2\n",
      "3         42.1\n",
      "5         49.3\n",
      "6         49.6\n",
      "          ... \n",
      "433925    37.7\n",
      "433926    56.0\n",
      "433927    39.4\n",
      "433928    53.9\n",
      "433929    57.7\n",
      "Name: NT_GER, Length: 389458, dtype: float64\n",
      "44.092243579538746\n"
     ]
    }
   ],
   "source": [
    "#substitui vírgula por ponto\n",
    "tabela['NT_GER'] = tabela['NT_GER'].str.replace(',', '.')\n",
    "tabela=tabela.loc[(tabela['NT_GER'].notnull())]\n",
    "tabela=tabela.loc[(tabela['QE_I02'].notnull())]\n",
    "tabela=tabela.loc[(tabela['QE_I02 - Grupos Cor Pele'].notnull())]\n",
    "tabela['QE_I02 - Grupos Cor Pele'].dropna(how='any')\n",
    "tabela['QE_I02'].dropna(how='any')\n",
    "\n",
    "tabela.drop(tabela.loc[tabela['QE_I02']==' '].index, inplace=True)\n",
    "tabela.drop(tabela.loc[tabela['QE_I02 - Grupos Cor Pele']==' '].index, inplace=True)\n",
    "\n",
    "\n",
    "\n",
    "#converte de str para float\n",
    "tabela['NT_GER'] = pd.to_numeric(tabela['NT_GER'])\n",
    "print(tabela['NT_GER'])\n",
    "#media das notas gerais\n",
    "print(tabela['NT_GER'].mean())\n"
   ]
  },
  {
   "cell_type": "code",
   "execution_count": 170,
   "metadata": {},
   "outputs": [
    {
     "data": {
      "text/plain": [
       "dict_keys(['C', 'A', 'D', 'B', 'F', 'E'])"
      ]
     },
     "execution_count": 170,
     "metadata": {},
     "output_type": "execute_result"
    }
   ],
   "source": [
    "from collections import Counter\n",
    "Counter(tabela['QE_I02']).values()\n",
    "Counter(tabela['QE_I02']).keys()\n",
    "\n"
   ]
  },
  {
   "cell_type": "code",
   "execution_count": 171,
   "metadata": {},
   "outputs": [
    {
     "data": {
      "text/plain": [
       "dict_keys([3, 1, 4, 2, 6, 5])"
      ]
     },
     "execution_count": 171,
     "metadata": {},
     "output_type": "execute_result"
    }
   ],
   "source": [
    "Counter(tabela['QE_I02 - Grupos Cor Pele']).values()\n",
    "Counter(tabela['QE_I02 - Grupos Cor Pele']).keys()"
   ]
  },
  {
   "cell_type": "code",
   "execution_count": 172,
   "metadata": {},
   "outputs": [
    {
     "data": {
      "text/plain": [
       "A    210805\n",
       "D    129547\n",
       "B     31273\n",
       "C      9592\n",
       "F      7022\n",
       "E      1219\n",
       "          0\n",
       "Name: QE_I02, dtype: int64"
      ]
     },
     "execution_count": 172,
     "metadata": {},
     "output_type": "execute_result"
    }
   ],
   "source": [
    "tabela['QE_I02'].value_counts()\n"
   ]
  },
  {
   "cell_type": "code",
   "execution_count": 173,
   "metadata": {},
   "outputs": [
    {
     "data": {
      "text/html": [
       "<div>\n",
       "<style scoped>\n",
       "    .dataframe tbody tr th:only-of-type {\n",
       "        vertical-align: middle;\n",
       "    }\n",
       "\n",
       "    .dataframe tbody tr th {\n",
       "        vertical-align: top;\n",
       "    }\n",
       "\n",
       "    .dataframe thead th {\n",
       "        text-align: right;\n",
       "    }\n",
       "</style>\n",
       "<table border=\"1\" class=\"dataframe\">\n",
       "  <thead>\n",
       "    <tr style=\"text-align: right;\">\n",
       "      <th></th>\n",
       "      <th>QE_I02 - Grupos Cor Pele</th>\n",
       "      <th>QE_I02</th>\n",
       "      <th>QE_I05</th>\n",
       "      <th>QE_I08</th>\n",
       "      <th>QE_I17</th>\n",
       "      <th>NT_GER</th>\n",
       "    </tr>\n",
       "  </thead>\n",
       "  <tbody>\n",
       "    <tr>\n",
       "      <th>0</th>\n",
       "      <td>3</td>\n",
       "      <td>C</td>\n",
       "      <td>E</td>\n",
       "      <td>B</td>\n",
       "      <td>B</td>\n",
       "      <td>51.9</td>\n",
       "    </tr>\n",
       "    <tr>\n",
       "      <th>1</th>\n",
       "      <td>1</td>\n",
       "      <td>A</td>\n",
       "      <td>D</td>\n",
       "      <td>E</td>\n",
       "      <td>B</td>\n",
       "      <td>54.2</td>\n",
       "    </tr>\n",
       "    <tr>\n",
       "      <th>3</th>\n",
       "      <td>4</td>\n",
       "      <td>D</td>\n",
       "      <td>F</td>\n",
       "      <td>E</td>\n",
       "      <td>B</td>\n",
       "      <td>42.1</td>\n",
       "    </tr>\n",
       "    <tr>\n",
       "      <th>5</th>\n",
       "      <td>1</td>\n",
       "      <td>A</td>\n",
       "      <td>E</td>\n",
       "      <td>C</td>\n",
       "      <td>B</td>\n",
       "      <td>49.3</td>\n",
       "    </tr>\n",
       "    <tr>\n",
       "      <th>6</th>\n",
       "      <td>1</td>\n",
       "      <td>A</td>\n",
       "      <td>E</td>\n",
       "      <td>E</td>\n",
       "      <td>B</td>\n",
       "      <td>49.6</td>\n",
       "    </tr>\n",
       "    <tr>\n",
       "      <th>...</th>\n",
       "      <td>...</td>\n",
       "      <td>...</td>\n",
       "      <td>...</td>\n",
       "      <td>...</td>\n",
       "      <td>...</td>\n",
       "      <td>...</td>\n",
       "    </tr>\n",
       "    <tr>\n",
       "      <th>107</th>\n",
       "      <td>4</td>\n",
       "      <td>D</td>\n",
       "      <td>F</td>\n",
       "      <td>C</td>\n",
       "      <td>A</td>\n",
       "      <td>58.4</td>\n",
       "    </tr>\n",
       "    <tr>\n",
       "      <th>108</th>\n",
       "      <td>4</td>\n",
       "      <td>D</td>\n",
       "      <td>E</td>\n",
       "      <td>E</td>\n",
       "      <td>B</td>\n",
       "      <td>48.1</td>\n",
       "    </tr>\n",
       "    <tr>\n",
       "      <th>109</th>\n",
       "      <td>2</td>\n",
       "      <td>B</td>\n",
       "      <td>D</td>\n",
       "      <td>C</td>\n",
       "      <td>A</td>\n",
       "      <td>44.1</td>\n",
       "    </tr>\n",
       "    <tr>\n",
       "      <th>110</th>\n",
       "      <td>6</td>\n",
       "      <td>F</td>\n",
       "      <td>D</td>\n",
       "      <td>C</td>\n",
       "      <td>A</td>\n",
       "      <td>52.4</td>\n",
       "    </tr>\n",
       "    <tr>\n",
       "      <th>111</th>\n",
       "      <td>4</td>\n",
       "      <td>D</td>\n",
       "      <td>C</td>\n",
       "      <td>C</td>\n",
       "      <td>B</td>\n",
       "      <td>48.9</td>\n",
       "    </tr>\n",
       "  </tbody>\n",
       "</table>\n",
       "<p>100 rows × 6 columns</p>\n",
       "</div>"
      ],
      "text/plain": [
       "     QE_I02 - Grupos Cor Pele QE_I02 QE_I05 QE_I08 QE_I17  NT_GER\n",
       "0                           3      C      E      B      B    51.9\n",
       "1                           1      A      D      E      B    54.2\n",
       "3                           4      D      F      E      B    42.1\n",
       "5                           1      A      E      C      B    49.3\n",
       "6                           1      A      E      E      B    49.6\n",
       "..                        ...    ...    ...    ...    ...     ...\n",
       "107                         4      D      F      C      A    58.4\n",
       "108                         4      D      E      E      B    48.1\n",
       "109                         2      B      D      C      A    44.1\n",
       "110                         6      F      D      C      A    52.4\n",
       "111                         4      D      C      C      B    48.9\n",
       "\n",
       "[100 rows x 6 columns]"
      ]
     },
     "execution_count": 173,
     "metadata": {},
     "output_type": "execute_result"
    }
   ],
   "source": [
    "tabela.head(100)"
   ]
  },
  {
   "cell_type": "code",
   "execution_count": 174,
   "metadata": {},
   "outputs": [
    {
     "data": {
      "text/plain": [
       "1    210805\n",
       "4    129547\n",
       "2     31273\n",
       "3      9592\n",
       "6      7022\n",
       "5      1219\n",
       "Name: QE_I02 - Grupos Cor Pele, dtype: int64"
      ]
     },
     "execution_count": 174,
     "metadata": {},
     "output_type": "execute_result"
    }
   ],
   "source": [
    "tabela['QE_I02 - Grupos Cor Pele'].value_counts()\n",
    "\n"
   ]
  },
  {
   "cell_type": "code",
   "execution_count": 175,
   "metadata": {},
   "outputs": [
    {
     "name": "stdout",
     "output_type": "stream",
     "text": [
      "        QE_I02 - Grupos Cor Pele QE_I02 QE_I05 QE_I08 QE_I17  NT_GER\n",
      "9                              2      B      F      D      A    61.6\n",
      "47                             2      B      E      C      B    52.5\n",
      "63                             2      B      F      D      B    62.7\n",
      "75                             2      B      D      C      A    49.5\n",
      "78                             2      B      E      F      E    60.1\n",
      "...                          ...    ...    ...    ...    ...     ...\n",
      "433862                         2      B      D      A      A    47.2\n",
      "433874                         2      B      F      D      A    41.8\n",
      "433875                         2      B      D      B      A    33.5\n",
      "433876                         2      B      C      C      D    68.8\n",
      "433907                         2      B      D      C      D    38.6\n",
      "\n",
      "[31273 rows x 6 columns]\n"
     ]
    },
    {
     "data": {
      "text/html": [
       "<div>\n",
       "<style scoped>\n",
       "    .dataframe tbody tr th:only-of-type {\n",
       "        vertical-align: middle;\n",
       "    }\n",
       "\n",
       "    .dataframe tbody tr th {\n",
       "        vertical-align: top;\n",
       "    }\n",
       "\n",
       "    .dataframe thead th {\n",
       "        text-align: right;\n",
       "    }\n",
       "</style>\n",
       "<table border=\"1\" class=\"dataframe\">\n",
       "  <thead>\n",
       "    <tr style=\"text-align: right;\">\n",
       "      <th></th>\n",
       "      <th>QE_I02 - Grupos Cor Pele</th>\n",
       "      <th>NT_GER</th>\n",
       "    </tr>\n",
       "  </thead>\n",
       "  <tbody>\n",
       "    <tr>\n",
       "      <th>count</th>\n",
       "      <td>31273.0</td>\n",
       "      <td>31273.000000</td>\n",
       "    </tr>\n",
       "    <tr>\n",
       "      <th>mean</th>\n",
       "      <td>2.0</td>\n",
       "      <td>41.324619</td>\n",
       "    </tr>\n",
       "    <tr>\n",
       "      <th>std</th>\n",
       "      <td>0.0</td>\n",
       "      <td>14.147008</td>\n",
       "    </tr>\n",
       "    <tr>\n",
       "      <th>min</th>\n",
       "      <td>2.0</td>\n",
       "      <td>0.000000</td>\n",
       "    </tr>\n",
       "    <tr>\n",
       "      <th>25%</th>\n",
       "      <td>2.0</td>\n",
       "      <td>30.800000</td>\n",
       "    </tr>\n",
       "    <tr>\n",
       "      <th>50%</th>\n",
       "      <td>2.0</td>\n",
       "      <td>40.700000</td>\n",
       "    </tr>\n",
       "    <tr>\n",
       "      <th>75%</th>\n",
       "      <td>2.0</td>\n",
       "      <td>51.400000</td>\n",
       "    </tr>\n",
       "    <tr>\n",
       "      <th>max</th>\n",
       "      <td>2.0</td>\n",
       "      <td>93.000000</td>\n",
       "    </tr>\n",
       "  </tbody>\n",
       "</table>\n",
       "</div>"
      ],
      "text/plain": [
       "       QE_I02 - Grupos Cor Pele        NT_GER\n",
       "count                   31273.0  31273.000000\n",
       "mean                        2.0     41.324619\n",
       "std                         0.0     14.147008\n",
       "min                         2.0      0.000000\n",
       "25%                         2.0     30.800000\n",
       "50%                         2.0     40.700000\n",
       "75%                         2.0     51.400000\n",
       "max                         2.0     93.000000"
      ]
     },
     "execution_count": 175,
     "metadata": {},
     "output_type": "execute_result"
    }
   ],
   "source": [
    "negros = tabela[tabela['QE_I02'] == 'B']\n",
    "print(negros)\n",
    "negros.describe()"
   ]
  },
  {
   "cell_type": "code",
   "execution_count": 176,
   "metadata": {},
   "outputs": [
    {
     "name": "stdout",
     "output_type": "stream",
     "text": [
      "        QE_I02 - Grupos Cor Pele QE_I02 QE_I05 QE_I08 QE_I17  NT_GER\n",
      "1                              1      A      D      E      B    54.2\n",
      "5                              1      A      E      C      B    49.3\n",
      "6                              1      A      E      E      B    49.6\n",
      "7                              1      A      E      D      B    43.6\n",
      "8                              1      A      F      E      B    55.3\n",
      "...                          ...    ...    ...    ...    ...     ...\n",
      "433924                         1      A      B      D      A    63.5\n",
      "433926                         1      A      D      E      A    56.0\n",
      "433927                         1      A      D      E      A    39.4\n",
      "433928                         1      A      B      D      A    53.9\n",
      "433929                         1      A      B      D      A    57.7\n",
      "\n",
      "[210805 rows x 6 columns]\n"
     ]
    },
    {
     "data": {
      "text/html": [
       "<div>\n",
       "<style scoped>\n",
       "    .dataframe tbody tr th:only-of-type {\n",
       "        vertical-align: middle;\n",
       "    }\n",
       "\n",
       "    .dataframe tbody tr th {\n",
       "        vertical-align: top;\n",
       "    }\n",
       "\n",
       "    .dataframe thead th {\n",
       "        text-align: right;\n",
       "    }\n",
       "</style>\n",
       "<table border=\"1\" class=\"dataframe\">\n",
       "  <thead>\n",
       "    <tr style=\"text-align: right;\">\n",
       "      <th></th>\n",
       "      <th>QE_I02 - Grupos Cor Pele</th>\n",
       "      <th>NT_GER</th>\n",
       "    </tr>\n",
       "  </thead>\n",
       "  <tbody>\n",
       "    <tr>\n",
       "      <th>count</th>\n",
       "      <td>210805.0</td>\n",
       "      <td>210805.000000</td>\n",
       "    </tr>\n",
       "    <tr>\n",
       "      <th>mean</th>\n",
       "      <td>1.0</td>\n",
       "      <td>45.709632</td>\n",
       "    </tr>\n",
       "    <tr>\n",
       "      <th>std</th>\n",
       "      <td>0.0</td>\n",
       "      <td>14.463085</td>\n",
       "    </tr>\n",
       "    <tr>\n",
       "      <th>min</th>\n",
       "      <td>1.0</td>\n",
       "      <td>0.000000</td>\n",
       "    </tr>\n",
       "    <tr>\n",
       "      <th>25%</th>\n",
       "      <td>1.0</td>\n",
       "      <td>35.000000</td>\n",
       "    </tr>\n",
       "    <tr>\n",
       "      <th>50%</th>\n",
       "      <td>1.0</td>\n",
       "      <td>45.700000</td>\n",
       "    </tr>\n",
       "    <tr>\n",
       "      <th>75%</th>\n",
       "      <td>1.0</td>\n",
       "      <td>56.400000</td>\n",
       "    </tr>\n",
       "    <tr>\n",
       "      <th>max</th>\n",
       "      <td>1.0</td>\n",
       "      <td>91.600000</td>\n",
       "    </tr>\n",
       "  </tbody>\n",
       "</table>\n",
       "</div>"
      ],
      "text/plain": [
       "       QE_I02 - Grupos Cor Pele         NT_GER\n",
       "count                  210805.0  210805.000000\n",
       "mean                        1.0      45.709632\n",
       "std                         0.0      14.463085\n",
       "min                         1.0       0.000000\n",
       "25%                         1.0      35.000000\n",
       "50%                         1.0      45.700000\n",
       "75%                         1.0      56.400000\n",
       "max                         1.0      91.600000"
      ]
     },
     "execution_count": 176,
     "metadata": {},
     "output_type": "execute_result"
    }
   ],
   "source": [
    "brancos = tabela[tabela['QE_I02'] == 'A']\n",
    "print(brancos)\n",
    "brancos.describe()"
   ]
  },
  {
   "cell_type": "code",
   "execution_count": 177,
   "metadata": {},
   "outputs": [
    {
     "name": "stdout",
     "output_type": "stream",
     "text": [
      "        QE_I02 - Grupos Cor Pele QE_I02 QE_I05 QE_I08 QE_I17  NT_GER\n",
      "3                              4      D      F      E      B    42.1\n",
      "11                             4      D      D      B      A    49.5\n",
      "12                             4      D      B      C      A    76.8\n",
      "14                             4      D      F      B      A    44.1\n",
      "16                             4      D      B      E      A    38.8\n",
      "...                          ...    ...    ...    ...    ...     ...\n",
      "433898                         4      D      F      F      B    70.2\n",
      "433904                         4      D      E      F      B    67.5\n",
      "433909                         4      D      D      B      E    59.3\n",
      "433913                         4      D      A      B      A    37.0\n",
      "433925                         4      D      B      C      A    37.7\n",
      "\n",
      "[129547 rows x 6 columns]\n"
     ]
    },
    {
     "data": {
      "text/html": [
       "<div>\n",
       "<style scoped>\n",
       "    .dataframe tbody tr th:only-of-type {\n",
       "        vertical-align: middle;\n",
       "    }\n",
       "\n",
       "    .dataframe tbody tr th {\n",
       "        vertical-align: top;\n",
       "    }\n",
       "\n",
       "    .dataframe thead th {\n",
       "        text-align: right;\n",
       "    }\n",
       "</style>\n",
       "<table border=\"1\" class=\"dataframe\">\n",
       "  <thead>\n",
       "    <tr style=\"text-align: right;\">\n",
       "      <th></th>\n",
       "      <th>QE_I02 - Grupos Cor Pele</th>\n",
       "      <th>NT_GER</th>\n",
       "    </tr>\n",
       "  </thead>\n",
       "  <tbody>\n",
       "    <tr>\n",
       "      <th>count</th>\n",
       "      <td>129547.0</td>\n",
       "      <td>129547.000000</td>\n",
       "    </tr>\n",
       "    <tr>\n",
       "      <th>mean</th>\n",
       "      <td>4.0</td>\n",
       "      <td>42.107826</td>\n",
       "    </tr>\n",
       "    <tr>\n",
       "      <th>std</th>\n",
       "      <td>0.0</td>\n",
       "      <td>14.371268</td>\n",
       "    </tr>\n",
       "    <tr>\n",
       "      <th>min</th>\n",
       "      <td>4.0</td>\n",
       "      <td>0.000000</td>\n",
       "    </tr>\n",
       "    <tr>\n",
       "      <th>25%</th>\n",
       "      <td>4.0</td>\n",
       "      <td>31.300000</td>\n",
       "    </tr>\n",
       "    <tr>\n",
       "      <th>50%</th>\n",
       "      <td>4.0</td>\n",
       "      <td>41.500000</td>\n",
       "    </tr>\n",
       "    <tr>\n",
       "      <th>75%</th>\n",
       "      <td>4.0</td>\n",
       "      <td>52.500000</td>\n",
       "    </tr>\n",
       "    <tr>\n",
       "      <th>max</th>\n",
       "      <td>4.0</td>\n",
       "      <td>91.600000</td>\n",
       "    </tr>\n",
       "  </tbody>\n",
       "</table>\n",
       "</div>"
      ],
      "text/plain": [
       "       QE_I02 - Grupos Cor Pele         NT_GER\n",
       "count                  129547.0  129547.000000\n",
       "mean                        4.0      42.107826\n",
       "std                         0.0      14.371268\n",
       "min                         4.0       0.000000\n",
       "25%                         4.0      31.300000\n",
       "50%                         4.0      41.500000\n",
       "75%                         4.0      52.500000\n",
       "max                         4.0      91.600000"
      ]
     },
     "execution_count": 177,
     "metadata": {},
     "output_type": "execute_result"
    }
   ],
   "source": [
    "pardos = tabela[tabela['QE_I02'] == 'D']\n",
    "print(pardos)\n",
    "pardos.describe()"
   ]
  },
  {
   "cell_type": "code",
   "execution_count": 178,
   "metadata": {},
   "outputs": [
    {
     "name": "stdout",
     "output_type": "stream",
     "text": [
      "        QE_I02 - Grupos Cor Pele QE_I02 QE_I05 QE_I08 QE_I17  NT_GER\n",
      "51                             4      D      A      D      A    45.1\n",
      "143                            4      D      A      A      A    60.7\n",
      "455                            4      D      A      F      A    59.4\n",
      "1154                           2      B      A      C      A    44.0\n",
      "1162                           2      B      A      A      A    57.1\n",
      "...                          ...    ...    ...    ...    ...     ...\n",
      "433696                         4      D      A      C      D    29.4\n",
      "433723                         4      D      A      B      A    38.9\n",
      "433810                         1      A      A      C      A    36.3\n",
      "433816                         1      A      A      B      A    30.7\n",
      "433913                         4      D      A      B      A    37.0\n",
      "\n",
      "[8817 rows x 6 columns]\n"
     ]
    },
    {
     "data": {
      "text/html": [
       "<div>\n",
       "<style scoped>\n",
       "    .dataframe tbody tr th:only-of-type {\n",
       "        vertical-align: middle;\n",
       "    }\n",
       "\n",
       "    .dataframe tbody tr th {\n",
       "        vertical-align: top;\n",
       "    }\n",
       "\n",
       "    .dataframe thead th {\n",
       "        text-align: right;\n",
       "    }\n",
       "</style>\n",
       "<table border=\"1\" class=\"dataframe\">\n",
       "  <thead>\n",
       "    <tr style=\"text-align: right;\">\n",
       "      <th></th>\n",
       "      <th>QE_I02 - Grupos Cor Pele</th>\n",
       "      <th>NT_GER</th>\n",
       "    </tr>\n",
       "  </thead>\n",
       "  <tbody>\n",
       "    <tr>\n",
       "      <th>count</th>\n",
       "      <td>8817.000000</td>\n",
       "      <td>8817.000000</td>\n",
       "    </tr>\n",
       "    <tr>\n",
       "      <th>mean</th>\n",
       "      <td>2.746172</td>\n",
       "      <td>37.126710</td>\n",
       "    </tr>\n",
       "    <tr>\n",
       "      <th>std</th>\n",
       "      <td>1.424839</td>\n",
       "      <td>13.623026</td>\n",
       "    </tr>\n",
       "    <tr>\n",
       "      <th>min</th>\n",
       "      <td>1.000000</td>\n",
       "      <td>0.000000</td>\n",
       "    </tr>\n",
       "    <tr>\n",
       "      <th>25%</th>\n",
       "      <td>1.000000</td>\n",
       "      <td>27.000000</td>\n",
       "    </tr>\n",
       "    <tr>\n",
       "      <th>50%</th>\n",
       "      <td>4.000000</td>\n",
       "      <td>36.100000</td>\n",
       "    </tr>\n",
       "    <tr>\n",
       "      <th>75%</th>\n",
       "      <td>4.000000</td>\n",
       "      <td>46.300000</td>\n",
       "    </tr>\n",
       "    <tr>\n",
       "      <th>max</th>\n",
       "      <td>6.000000</td>\n",
       "      <td>84.200000</td>\n",
       "    </tr>\n",
       "  </tbody>\n",
       "</table>\n",
       "</div>"
      ],
      "text/plain": [
       "       QE_I02 - Grupos Cor Pele       NT_GER\n",
       "count               8817.000000  8817.000000\n",
       "mean                   2.746172    37.126710\n",
       "std                    1.424839    13.623026\n",
       "min                    1.000000     0.000000\n",
       "25%                    1.000000    27.000000\n",
       "50%                    4.000000    36.100000\n",
       "75%                    4.000000    46.300000\n",
       "max                    6.000000    84.200000"
      ]
     },
     "execution_count": 178,
     "metadata": {},
     "output_type": "execute_result"
    }
   ],
   "source": [
    "ecolaridadeMaeNenhuma = tabela[tabela['QE_I05'] == 'A']\n",
    "print(ecolaridadeMaeNenhuma)\n",
    "ecolaridadeMaeNenhuma.describe()"
   ]
  },
  {
   "cell_type": "code",
   "execution_count": 179,
   "metadata": {},
   "outputs": [
    {
     "name": "stdout",
     "output_type": "stream",
     "text": [
      "        QE_I02 - Grupos Cor Pele QE_I02 QE_I05 QE_I08 QE_I17  NT_GER\n",
      "3                              4      D      F      E      B    42.1\n",
      "8                              1      A      F      E      B    55.3\n",
      "9                              2      B      F      D      A    61.6\n",
      "14                             4      D      F      B      A    44.1\n",
      "18                             4      D      F      F      A    26.6\n",
      "...                          ...    ...    ...    ...    ...     ...\n",
      "433867                         1      A      F      E      B    71.2\n",
      "433871                         1      A      F      E      B    64.4\n",
      "433874                         2      B      F      D      A    41.8\n",
      "433894                         1      A      F      F      B    61.1\n",
      "433898                         4      D      F      F      B    70.2\n",
      "\n",
      "[45581 rows x 6 columns]\n"
     ]
    },
    {
     "data": {
      "text/html": [
       "<div>\n",
       "<style scoped>\n",
       "    .dataframe tbody tr th:only-of-type {\n",
       "        vertical-align: middle;\n",
       "    }\n",
       "\n",
       "    .dataframe tbody tr th {\n",
       "        vertical-align: top;\n",
       "    }\n",
       "\n",
       "    .dataframe thead th {\n",
       "        text-align: right;\n",
       "    }\n",
       "</style>\n",
       "<table border=\"1\" class=\"dataframe\">\n",
       "  <thead>\n",
       "    <tr style=\"text-align: right;\">\n",
       "      <th></th>\n",
       "      <th>QE_I02 - Grupos Cor Pele</th>\n",
       "      <th>NT_GER</th>\n",
       "    </tr>\n",
       "  </thead>\n",
       "  <tbody>\n",
       "    <tr>\n",
       "      <th>count</th>\n",
       "      <td>45581.000000</td>\n",
       "      <td>45581.000000</td>\n",
       "    </tr>\n",
       "    <tr>\n",
       "      <th>mean</th>\n",
       "      <td>2.013120</td>\n",
       "      <td>48.736237</td>\n",
       "    </tr>\n",
       "    <tr>\n",
       "      <th>std</th>\n",
       "      <td>1.449381</td>\n",
       "      <td>14.591306</td>\n",
       "    </tr>\n",
       "    <tr>\n",
       "      <th>min</th>\n",
       "      <td>1.000000</td>\n",
       "      <td>0.000000</td>\n",
       "    </tr>\n",
       "    <tr>\n",
       "      <th>25%</th>\n",
       "      <td>1.000000</td>\n",
       "      <td>38.200000</td>\n",
       "    </tr>\n",
       "    <tr>\n",
       "      <th>50%</th>\n",
       "      <td>1.000000</td>\n",
       "      <td>49.300000</td>\n",
       "    </tr>\n",
       "    <tr>\n",
       "      <th>75%</th>\n",
       "      <td>4.000000</td>\n",
       "      <td>59.700000</td>\n",
       "    </tr>\n",
       "    <tr>\n",
       "      <th>max</th>\n",
       "      <td>6.000000</td>\n",
       "      <td>91.600000</td>\n",
       "    </tr>\n",
       "  </tbody>\n",
       "</table>\n",
       "</div>"
      ],
      "text/plain": [
       "       QE_I02 - Grupos Cor Pele        NT_GER\n",
       "count              45581.000000  45581.000000\n",
       "mean                   2.013120     48.736237\n",
       "std                    1.449381     14.591306\n",
       "min                    1.000000      0.000000\n",
       "25%                    1.000000     38.200000\n",
       "50%                    1.000000     49.300000\n",
       "75%                    4.000000     59.700000\n",
       "max                    6.000000     91.600000"
      ]
     },
     "execution_count": 179,
     "metadata": {},
     "output_type": "execute_result"
    }
   ],
   "source": [
    "ecolaridadeMaePos = tabela[tabela['QE_I05'] == 'F']\n",
    "print(ecolaridadeMaePos)\n",
    "ecolaridadeMaePos.describe()"
   ]
  },
  {
   "cell_type": "code",
   "execution_count": 180,
   "metadata": {},
   "outputs": [
    {
     "name": "stdout",
     "output_type": "stream",
     "text": [
      "        QE_I02 - Grupos Cor Pele QE_I02 QE_I05 QE_I08 QE_I17  NT_GER\n",
      "9                              2      B      F      D      A    61.6\n",
      "11                             4      D      D      B      A    49.5\n",
      "12                             4      D      B      C      A    76.8\n",
      "13                             1      A      E      B      A    70.2\n",
      "14                             4      D      F      B      A    44.1\n",
      "...                          ...    ...    ...    ...    ...     ...\n",
      "433925                         4      D      B      C      A    37.7\n",
      "433926                         1      A      D      E      A    56.0\n",
      "433927                         1      A      D      E      A    39.4\n",
      "433928                         1      A      B      D      A    53.9\n",
      "433929                         1      A      B      D      A    57.7\n",
      "\n",
      "[233552 rows x 6 columns]\n"
     ]
    },
    {
     "data": {
      "text/html": [
       "<div>\n",
       "<style scoped>\n",
       "    .dataframe tbody tr th:only-of-type {\n",
       "        vertical-align: middle;\n",
       "    }\n",
       "\n",
       "    .dataframe tbody tr th {\n",
       "        vertical-align: top;\n",
       "    }\n",
       "\n",
       "    .dataframe thead th {\n",
       "        text-align: right;\n",
       "    }\n",
       "</style>\n",
       "<table border=\"1\" class=\"dataframe\">\n",
       "  <thead>\n",
       "    <tr style=\"text-align: right;\">\n",
       "      <th></th>\n",
       "      <th>QE_I02 - Grupos Cor Pele</th>\n",
       "      <th>NT_GER</th>\n",
       "    </tr>\n",
       "  </thead>\n",
       "  <tbody>\n",
       "    <tr>\n",
       "      <th>count</th>\n",
       "      <td>233552.000000</td>\n",
       "      <td>233552.000000</td>\n",
       "    </tr>\n",
       "    <tr>\n",
       "      <th>mean</th>\n",
       "      <td>2.387884</td>\n",
       "      <td>41.836099</td>\n",
       "    </tr>\n",
       "    <tr>\n",
       "      <th>std</th>\n",
       "      <td>1.472665</td>\n",
       "      <td>14.059969</td>\n",
       "    </tr>\n",
       "    <tr>\n",
       "      <th>min</th>\n",
       "      <td>1.000000</td>\n",
       "      <td>0.000000</td>\n",
       "    </tr>\n",
       "    <tr>\n",
       "      <th>25%</th>\n",
       "      <td>1.000000</td>\n",
       "      <td>31.400000</td>\n",
       "    </tr>\n",
       "    <tr>\n",
       "      <th>50%</th>\n",
       "      <td>2.000000</td>\n",
       "      <td>41.300000</td>\n",
       "    </tr>\n",
       "    <tr>\n",
       "      <th>75%</th>\n",
       "      <td>4.000000</td>\n",
       "      <td>51.800000</td>\n",
       "    </tr>\n",
       "    <tr>\n",
       "      <th>max</th>\n",
       "      <td>6.000000</td>\n",
       "      <td>91.600000</td>\n",
       "    </tr>\n",
       "  </tbody>\n",
       "</table>\n",
       "</div>"
      ],
      "text/plain": [
       "       QE_I02 - Grupos Cor Pele         NT_GER\n",
       "count             233552.000000  233552.000000\n",
       "mean                   2.387884      41.836099\n",
       "std                    1.472665      14.059969\n",
       "min                    1.000000       0.000000\n",
       "25%                    1.000000      31.400000\n",
       "50%                    2.000000      41.300000\n",
       "75%                    4.000000      51.800000\n",
       "max                    6.000000      91.600000"
      ]
     },
     "execution_count": 180,
     "metadata": {},
     "output_type": "execute_result"
    }
   ],
   "source": [
    "estudouEscPublica = tabela[tabela['QE_I17'] == 'A']\n",
    "print(estudouEscPublica)\n",
    "estudouEscPublica.describe()"
   ]
  },
  {
   "cell_type": "code",
   "execution_count": 181,
   "metadata": {},
   "outputs": [
    {
     "name": "stdout",
     "output_type": "stream",
     "text": [
      "        QE_I02 - Grupos Cor Pele QE_I02 QE_I05 QE_I08 QE_I17  NT_GER\n",
      "0                              3      C      E      B      B    51.9\n",
      "1                              1      A      D      E      B    54.2\n",
      "3                              4      D      F      E      B    42.1\n",
      "5                              1      A      E      C      B    49.3\n",
      "6                              1      A      E      E      B    49.6\n",
      "...                          ...    ...    ...    ...    ...     ...\n",
      "433898                         4      D      F      F      B    70.2\n",
      "433899                         1      A      E      E      B    48.2\n",
      "433902                         1      A      D      E      B    43.2\n",
      "433904                         4      D      E      F      B    67.5\n",
      "433911                         6      F      B      D      B    57.5\n",
      "\n",
      "[122694 rows x 6 columns]\n"
     ]
    },
    {
     "data": {
      "text/html": [
       "<div>\n",
       "<style scoped>\n",
       "    .dataframe tbody tr th:only-of-type {\n",
       "        vertical-align: middle;\n",
       "    }\n",
       "\n",
       "    .dataframe tbody tr th {\n",
       "        vertical-align: top;\n",
       "    }\n",
       "\n",
       "    .dataframe thead th {\n",
       "        text-align: right;\n",
       "    }\n",
       "</style>\n",
       "<table border=\"1\" class=\"dataframe\">\n",
       "  <thead>\n",
       "    <tr style=\"text-align: right;\">\n",
       "      <th></th>\n",
       "      <th>QE_I02 - Grupos Cor Pele</th>\n",
       "      <th>NT_GER</th>\n",
       "    </tr>\n",
       "  </thead>\n",
       "  <tbody>\n",
       "    <tr>\n",
       "      <th>count</th>\n",
       "      <td>122694.000000</td>\n",
       "      <td>122694.000000</td>\n",
       "    </tr>\n",
       "    <tr>\n",
       "      <th>mean</th>\n",
       "      <td>1.937756</td>\n",
       "      <td>48.902343</td>\n",
       "    </tr>\n",
       "    <tr>\n",
       "      <th>std</th>\n",
       "      <td>1.414812</td>\n",
       "      <td>14.352335</td>\n",
       "    </tr>\n",
       "    <tr>\n",
       "      <th>min</th>\n",
       "      <td>1.000000</td>\n",
       "      <td>0.000000</td>\n",
       "    </tr>\n",
       "    <tr>\n",
       "      <th>25%</th>\n",
       "      <td>1.000000</td>\n",
       "      <td>38.600000</td>\n",
       "    </tr>\n",
       "    <tr>\n",
       "      <th>50%</th>\n",
       "      <td>1.000000</td>\n",
       "      <td>49.600000</td>\n",
       "    </tr>\n",
       "    <tr>\n",
       "      <th>75%</th>\n",
       "      <td>4.000000</td>\n",
       "      <td>59.700000</td>\n",
       "    </tr>\n",
       "    <tr>\n",
       "      <th>max</th>\n",
       "      <td>6.000000</td>\n",
       "      <td>93.000000</td>\n",
       "    </tr>\n",
       "  </tbody>\n",
       "</table>\n",
       "</div>"
      ],
      "text/plain": [
       "       QE_I02 - Grupos Cor Pele         NT_GER\n",
       "count             122694.000000  122694.000000\n",
       "mean                   1.937756      48.902343\n",
       "std                    1.414812      14.352335\n",
       "min                    1.000000       0.000000\n",
       "25%                    1.000000      38.600000\n",
       "50%                    1.000000      49.600000\n",
       "75%                    4.000000      59.700000\n",
       "max                    6.000000      93.000000"
      ]
     },
     "execution_count": 181,
     "metadata": {},
     "output_type": "execute_result"
    }
   ],
   "source": [
    "estudouEscParticular = tabela[tabela['QE_I17'] == 'B']\n",
    "print(estudouEscParticular)\n",
    "estudouEscParticular.describe()"
   ]
  },
  {
   "cell_type": "code",
   "execution_count": 182,
   "metadata": {},
   "outputs": [
    {
     "name": "stdout",
     "output_type": "stream",
     "text": [
      "        QE_I02 - Grupos Cor Pele QE_I02 QE_I05 QE_I08 QE_I17  NT_GER\n",
      "628                            1      A      F      F      C    37.8\n",
      "998                            4      D      D      B      C    48.6\n",
      "1592                           4      D      D      C      C    24.8\n",
      "1682                           4      D      F      F      C    62.5\n",
      "1790                           2      B      D      A      C    64.8\n",
      "...                          ...    ...    ...    ...    ...     ...\n",
      "430759                         4      D      D      C      C    43.6\n",
      "431460                         1      A      E      F      C    63.0\n",
      "431567                         4      D      E      C      C    51.2\n",
      "432143                         1      A      F      B      C    61.7\n",
      "433449                         1      A      D      A      C    39.8\n",
      "\n",
      "[377 rows x 6 columns]\n"
     ]
    },
    {
     "data": {
      "text/html": [
       "<div>\n",
       "<style scoped>\n",
       "    .dataframe tbody tr th:only-of-type {\n",
       "        vertical-align: middle;\n",
       "    }\n",
       "\n",
       "    .dataframe tbody tr th {\n",
       "        vertical-align: top;\n",
       "    }\n",
       "\n",
       "    .dataframe thead th {\n",
       "        text-align: right;\n",
       "    }\n",
       "</style>\n",
       "<table border=\"1\" class=\"dataframe\">\n",
       "  <thead>\n",
       "    <tr style=\"text-align: right;\">\n",
       "      <th></th>\n",
       "      <th>QE_I02 - Grupos Cor Pele</th>\n",
       "      <th>NT_GER</th>\n",
       "    </tr>\n",
       "  </thead>\n",
       "  <tbody>\n",
       "    <tr>\n",
       "      <th>count</th>\n",
       "      <td>377.000000</td>\n",
       "      <td>377.000000</td>\n",
       "    </tr>\n",
       "    <tr>\n",
       "      <th>mean</th>\n",
       "      <td>2.249337</td>\n",
       "      <td>43.348276</td>\n",
       "    </tr>\n",
       "    <tr>\n",
       "      <th>std</th>\n",
       "      <td>1.507572</td>\n",
       "      <td>14.658461</td>\n",
       "    </tr>\n",
       "    <tr>\n",
       "      <th>min</th>\n",
       "      <td>1.000000</td>\n",
       "      <td>5.000000</td>\n",
       "    </tr>\n",
       "    <tr>\n",
       "      <th>25%</th>\n",
       "      <td>1.000000</td>\n",
       "      <td>32.200000</td>\n",
       "    </tr>\n",
       "    <tr>\n",
       "      <th>50%</th>\n",
       "      <td>2.000000</td>\n",
       "      <td>42.800000</td>\n",
       "    </tr>\n",
       "    <tr>\n",
       "      <th>75%</th>\n",
       "      <td>3.000000</td>\n",
       "      <td>54.700000</td>\n",
       "    </tr>\n",
       "    <tr>\n",
       "      <th>max</th>\n",
       "      <td>6.000000</td>\n",
       "      <td>81.500000</td>\n",
       "    </tr>\n",
       "  </tbody>\n",
       "</table>\n",
       "</div>"
      ],
      "text/plain": [
       "       QE_I02 - Grupos Cor Pele      NT_GER\n",
       "count                377.000000  377.000000\n",
       "mean                   2.249337   43.348276\n",
       "std                    1.507572   14.658461\n",
       "min                    1.000000    5.000000\n",
       "25%                    1.000000   32.200000\n",
       "50%                    2.000000   42.800000\n",
       "75%                    3.000000   54.700000\n",
       "max                    6.000000   81.500000"
      ]
     },
     "execution_count": 182,
     "metadata": {},
     "output_type": "execute_result"
    }
   ],
   "source": [
    "estudouExterior = tabela[tabela['QE_I17'] == 'C']\n",
    "print(estudouExterior)\n",
    "estudouExterior.describe()"
   ]
  },
  {
   "cell_type": "code",
   "execution_count": 183,
   "metadata": {},
   "outputs": [],
   "source": [
    "tabela['QE_I02'] = tabela['QE_I02'].map({'A': 0, 'B': 1, 'C' : 2, 'D' : 3, 'E' : 4, 'F' : 5})\n",
    "tabela['QE_I05'] = tabela['QE_I05'].map({'A': 0, 'B': 1, 'C' : 2, 'D' : 3, 'E' : 4, 'F' : 5})\n",
    "tabela['QE_I08'] = tabela['QE_I08'].map({'A': 0, 'B': 1, 'C' : 2, 'D' : 3, 'E' : 4, 'F' : 5, 'G' : 6})\n"
   ]
  },
  {
   "cell_type": "code",
   "execution_count": 184,
   "metadata": {},
   "outputs": [
    {
     "data": {
      "image/png": "[encoded data removed]",
      "text/plain": [
       "<Figure size 432x288 with 1 Axes>"
      ]
     },
     "metadata": {
      "needs_background": "light"
     },
     "output_type": "display_data"
    }
   ],
   "source": [
    "#Escolaridade da mae\n",
    "plt.scatter( tabela.NT_GER, tabela.QE_I05, c = 'red')\n",
    "plt.xlabel('Nota')\n",
    "plt.ylabel('Escolaridade da mãe')\n",
    "plt.show()"
   ]
  },
  {
   "cell_type": "code",
   "execution_count": 185,
   "metadata": {},
   "outputs": [
    {
     "data": {
      "image/png": "[encoded data removed]",
      "text/plain": [
       "<Figure size 432x288 with 1 Axes>"
      ]
     },
     "metadata": {
      "needs_background": "light"
     },
     "output_type": "display_data"
    }
   ],
   "source": [
    "#Renda familiar\n",
    "plt.scatter( tabela.NT_GER, tabela.QE_I08, c = 'blue')\n",
    "plt.xlabel('Nota')\n",
    "plt.ylabel('Renda familiar')\n",
    "plt.show()"
   ]
  },
  {
   "cell_type": "code",
   "execution_count": 186,
   "metadata": {},
   "outputs": [
    {
     "data": {
      "text/plain": [
       "<AxesSubplot:title={'center':'NT_GER'}, xlabel='[QE_I08]'>"
      ]
     },
     "execution_count": 186,
     "metadata": {},
     "output_type": "execute_result"
    },
    {
     "data": {
      "image/png": "[encoded data removed]",
      "text/plain": [
       "<Figure size 432x288 with 1 Axes>"
      ]
     },
     "metadata": {
      "needs_background": "light"
     },
     "output_type": "display_data"
    }
   ],
   "source": [
    "rendaFam= pd.DataFrame(tabela, columns=['NT_GER', 'QE_I08'])\n",
    "rendaFam.boxplot(by='QE_I08')"
   ]
  },
  {
   "cell_type": "raw",
   "metadata": {},
   "source": []
  },
  {
   "cell_type": "code",
   "execution_count": 187,
   "metadata": {},
   "outputs": [
    {
     "data": {
      "text/plain": [
       "<AxesSubplot:title={'center':'NT_GER'}, xlabel='[QE_I02]'>"
      ]
     },
     "execution_count": 187,
     "metadata": {},
     "output_type": "execute_result"
    },
    {
     "data": {
      "image/png": "[encoded data removed]",
      "text/plain": [
       "<Figure size 432x288 with 1 Axes>"
      ]
     },
     "metadata": {
      "needs_background": "light"
     },
     "output_type": "display_data"
    }
   ],
   "source": [
    "cor= pd.DataFrame(tabela, columns=['NT_GER', 'QE_I02'])\n",
    "cor.boxplot(by='QE_I02')"
   ]
  },
  {
   "cell_type": "code",
   "execution_count": 188,
   "metadata": {},
   "outputs": [
    {
     "data": {
      "image/png": "[encoded data removed]",
      "text/plain": [
       "<Figure size 432x288 with 1 Axes>"
      ]
     },
     "metadata": {
      "needs_background": "light"
     },
     "output_type": "display_data"
    }
   ],
   "source": [
    "plt.hist(negros['NT_GER'], color = 'green')\n",
    "plt.xlabel('Nota Geral Alunos Negros')\n",
    "plt.ylabel('Número de Alunos')\n",
    "plt.show()"
   ]
  },
  {
   "cell_type": "code",
   "execution_count": 189,
   "metadata": {},
   "outputs": [
    {
     "data": {
      "image/png": "[encoded data removed]",
      "text/plain": [
       "<Figure size 432x288 with 1 Axes>"
      ]
     },
     "metadata": {
      "needs_background": "light"
     },
     "output_type": "display_data"
    }
   ],
   "source": [
    "plt.hist(brancos['NT_GER'], color = 'blue')\n",
    "plt.xlabel('Nota Geral Alunos Brancos')\n",
    "plt.ylabel('Número de Alunos')\n",
    "plt.show()"
   ]
  },
  {
   "cell_type": "code",
   "execution_count": 215,
   "metadata": {},
   "outputs": [
    {
     "data": {
      "text/plain": [
       "(548127, 137)"
      ]
     },
     "execution_count": 215,
     "metadata": {},
     "output_type": "execute_result"
    }
   ],
   "source": [
    "enade2018= pd.read_csv(\"microdados_enade_2018.txt\", sep=';',dtype={\"QE_I02\": 'category', \n",
    "                                                                               'QE_I05':'category',\n",
    "                                                                              'QE_I08':'category',\n",
    "                                                                              'QE_I17':'category',\n",
    "                                                                              'NT_GER':str,\n",
    "                                                                              'NT_FG':str,\n",
    "                                                                              'NT_OBJ_FG':str,\n",
    "                                                                               })\n",
    "\n",
    "\n",
    "enade2018.shape"
   ]
  },
  {
   "cell_type": "code",
   "execution_count": 216,
   "metadata": {},
   "outputs": [],
   "source": [
    "enade2018['QE_I02 - Grupos Cor Pele'] = enade2019['QE_I02'].cat.codes\n",
    "enade2018['QE_I05 - Grupos Escolaridade Mae'] = enade2019['QE_I05'].cat.codes\n",
    "enade2018['QE_I08 - Grupos Renda Familiar'] = enade2019['QE_I08'].cat.codes\n",
    "enade2018['QE_I17 - Grupos Tipo Escola E.M'] = enade2019['QE_I17'].cat.codes"
   ]
  },
  {
   "cell_type": "code",
   "execution_count": 217,
   "metadata": {},
   "outputs": [
    {
     "data": {
      "text/html": [
       "<div>\n",
       "<style scoped>\n",
       "    .dataframe tbody tr th:only-of-type {\n",
       "        vertical-align: middle;\n",
       "    }\n",
       "\n",
       "    .dataframe tbody tr th {\n",
       "        vertical-align: top;\n",
       "    }\n",
       "\n",
       "    .dataframe thead th {\n",
       "        text-align: right;\n",
       "    }\n",
       "</style>\n",
       "<table border=\"1\" class=\"dataframe\">\n",
       "  <thead>\n",
       "    <tr style=\"text-align: right;\">\n",
       "      <th></th>\n",
       "      <th>QE_I02 - Grupos Cor Pele</th>\n",
       "      <th>QE_I02</th>\n",
       "      <th>QE_I05</th>\n",
       "      <th>QE_I08</th>\n",
       "      <th>QE_I17</th>\n",
       "      <th>NT_GER</th>\n",
       "    </tr>\n",
       "  </thead>\n",
       "  <tbody>\n",
       "    <tr>\n",
       "      <th>0</th>\n",
       "      <td>3.0</td>\n",
       "      <td>D</td>\n",
       "      <td>D</td>\n",
       "      <td>C</td>\n",
       "      <td>A</td>\n",
       "      <td>42,8</td>\n",
       "    </tr>\n",
       "    <tr>\n",
       "      <th>1</th>\n",
       "      <td>1.0</td>\n",
       "      <td>A</td>\n",
       "      <td>B</td>\n",
       "      <td>D</td>\n",
       "      <td>A</td>\n",
       "      <td>59,3</td>\n",
       "    </tr>\n",
       "    <tr>\n",
       "      <th>2</th>\n",
       "      <td>1.0</td>\n",
       "      <td>A</td>\n",
       "      <td>D</td>\n",
       "      <td>E</td>\n",
       "      <td>A</td>\n",
       "      <td>60,9</td>\n",
       "    </tr>\n",
       "    <tr>\n",
       "      <th>3</th>\n",
       "      <td>4.0</td>\n",
       "      <td>A</td>\n",
       "      <td>D</td>\n",
       "      <td>D</td>\n",
       "      <td>A</td>\n",
       "      <td>25</td>\n",
       "    </tr>\n",
       "    <tr>\n",
       "      <th>4</th>\n",
       "      <td>0.0</td>\n",
       "      <td>B</td>\n",
       "      <td>C</td>\n",
       "      <td>E</td>\n",
       "      <td>A</td>\n",
       "      <td>42,4</td>\n",
       "    </tr>\n",
       "    <tr>\n",
       "      <th>5</th>\n",
       "      <td>1.0</td>\n",
       "      <td>A</td>\n",
       "      <td>D</td>\n",
       "      <td>F</td>\n",
       "      <td>A</td>\n",
       "      <td>40</td>\n",
       "    </tr>\n",
       "    <tr>\n",
       "      <th>6</th>\n",
       "      <td>1.0</td>\n",
       "      <td>A</td>\n",
       "      <td>F</td>\n",
       "      <td>E</td>\n",
       "      <td>A</td>\n",
       "      <td>55,1</td>\n",
       "    </tr>\n",
       "    <tr>\n",
       "      <th>7</th>\n",
       "      <td>1.0</td>\n",
       "      <td>A</td>\n",
       "      <td>D</td>\n",
       "      <td>C</td>\n",
       "      <td>A</td>\n",
       "      <td>38,7</td>\n",
       "    </tr>\n",
       "    <tr>\n",
       "      <th>8</th>\n",
       "      <td>1.0</td>\n",
       "      <td>A</td>\n",
       "      <td>C</td>\n",
       "      <td>B</td>\n",
       "      <td>A</td>\n",
       "      <td>50</td>\n",
       "    </tr>\n",
       "    <tr>\n",
       "      <th>9</th>\n",
       "      <td>2.0</td>\n",
       "      <td>D</td>\n",
       "      <td>C</td>\n",
       "      <td>C</td>\n",
       "      <td>A</td>\n",
       "      <td>50,6</td>\n",
       "    </tr>\n",
       "  </tbody>\n",
       "</table>\n",
       "</div>"
      ],
      "text/plain": [
       "   QE_I02 - Grupos Cor Pele QE_I02 QE_I05 QE_I08 QE_I17 NT_GER\n",
       "0                       3.0      D      D      C      A   42,8\n",
       "1                       1.0      A      B      D      A   59,3\n",
       "2                       1.0      A      D      E      A   60,9\n",
       "3                       4.0      A      D      D      A     25\n",
       "4                       0.0      B      C      E      A   42,4\n",
       "5                       1.0      A      D      F      A     40\n",
       "6                       1.0      A      F      E      A   55,1\n",
       "7                       1.0      A      D      C      A   38,7\n",
       "8                       1.0      A      C      B      A     50\n",
       "9                       2.0      D      C      C      A   50,6"
      ]
     },
     "execution_count": 217,
     "metadata": {},
     "output_type": "execute_result"
    }
   ],
   "source": [
    "tabela2 = pd.DataFrame(enade2018, columns=['QE_I02 - Grupos Cor Pele','QE_I02', 'QE_I05', 'QE_I08','QE_I17', 'NT_GER'])\n",
    "tabela2.head(10)"
   ]
  },
  {
   "cell_type": "code",
   "execution_count": 218,
   "metadata": {},
   "outputs": [
    {
     "data": {
      "text/plain": [
       "dict_keys(['D', 'A', 'B', 'E', nan, 'C', 'F'])"
      ]
     },
     "execution_count": 218,
     "metadata": {},
     "output_type": "execute_result"
    }
   ],
   "source": [
    "from collections import Counter\n",
    "Counter(tabela2['QE_I02']).values()\n",
    "\n",
    "Counter(tabela2['QE_I02']).keys()\n"
   ]
  },
  {
   "cell_type": "code",
   "execution_count": null,
   "metadata": {},
   "outputs": [],
   "source": [
    "Counter(tabela2['QE_I02 - Grupos Cor Pele']).values()\n",
    "Counter(tabela2['QE_I02 - Grupos Cor Pele']).keys()"
   ]
  },
  {
   "cell_type": "code",
   "execution_count": null,
   "metadata": {},
   "outputs": [],
   "source": [
    "tabela2['QE_I02'].value_counts()"
   ]
  },
  {
   "cell_type": "code",
   "execution_count": 192,
   "metadata": {},
   "outputs": [
    {
     "name": "stdout",
     "output_type": "stream",
     "text": [
      "0         42.8\n",
      "1         59.3\n",
      "2         60.9\n",
      "3         25.0\n",
      "4         42.4\n",
      "          ... \n",
      "548112    59.0\n",
      "548114    47.8\n",
      "548115    32.0\n",
      "548117    32.8\n",
      "548120    35.1\n",
      "Name: NT_GER, Length: 462232, dtype: float64\n",
      "41.79012335796744\n"
     ]
    }
   ],
   "source": [
    "#substitui vírgula por ponto\n",
    "tabela2['NT_GER'] = tabela2['NT_GER'].str.replace(',', '.')\n",
    "tabela2=tabela2.loc[(tabela2['NT_GER'].notnull())]\n",
    "\n",
    "#converte de str para float\n",
    "tabela2['NT_GER'] = pd.to_numeric(tabela2['NT_GER'])\n",
    "print(tabela2['NT_GER'])\n",
    "#media das notas gerais\n",
    "print(tabela2['NT_GER'].mean())\n"
   ]
  },
  {
   "cell_type": "code",
   "execution_count": 193,
   "metadata": {},
   "outputs": [
    {
     "name": "stdout",
     "output_type": "stream",
     "text": [
      "       QE_I02 QE_I05 QE_I08 QE_I17  NT_GER\n",
      "4           B      C      E      A    42.4\n",
      "16          B      D      B      A    36.4\n",
      "29          B      C      C      A    45.4\n",
      "36          B      C      E      A    46.5\n",
      "41          B      C      C      A    50.5\n",
      "...       ...    ...    ...    ...     ...\n",
      "548019      B      E      G      B    47.0\n",
      "548029      B      D      E      E    42.4\n",
      "548035      B      D      C      A    37.9\n",
      "548038      B      D      D      E    16.3\n",
      "548045      B      D      C      A    56.0\n",
      "\n",
      "[41535 rows x 5 columns]\n"
     ]
    },
    {
     "data": {
      "text/html": [
       "<div>\n",
       "<style scoped>\n",
       "    .dataframe tbody tr th:only-of-type {\n",
       "        vertical-align: middle;\n",
       "    }\n",
       "\n",
       "    .dataframe tbody tr th {\n",
       "        vertical-align: top;\n",
       "    }\n",
       "\n",
       "    .dataframe thead th {\n",
       "        text-align: right;\n",
       "    }\n",
       "</style>\n",
       "<table border=\"1\" class=\"dataframe\">\n",
       "  <thead>\n",
       "    <tr style=\"text-align: right;\">\n",
       "      <th></th>\n",
       "      <th>NT_GER</th>\n",
       "    </tr>\n",
       "  </thead>\n",
       "  <tbody>\n",
       "    <tr>\n",
       "      <th>count</th>\n",
       "      <td>41535.000000</td>\n",
       "    </tr>\n",
       "    <tr>\n",
       "      <th>mean</th>\n",
       "      <td>41.007926</td>\n",
       "    </tr>\n",
       "    <tr>\n",
       "      <th>std</th>\n",
       "      <td>14.084442</td>\n",
       "    </tr>\n",
       "    <tr>\n",
       "      <th>min</th>\n",
       "      <td>0.000000</td>\n",
       "    </tr>\n",
       "    <tr>\n",
       "      <th>25%</th>\n",
       "      <td>30.800000</td>\n",
       "    </tr>\n",
       "    <tr>\n",
       "      <th>50%</th>\n",
       "      <td>40.200000</td>\n",
       "    </tr>\n",
       "    <tr>\n",
       "      <th>75%</th>\n",
       "      <td>50.600000</td>\n",
       "    </tr>\n",
       "    <tr>\n",
       "      <th>max</th>\n",
       "      <td>91.200000</td>\n",
       "    </tr>\n",
       "  </tbody>\n",
       "</table>\n",
       "</div>"
      ],
      "text/plain": [
       "             NT_GER\n",
       "count  41535.000000\n",
       "mean      41.007926\n",
       "std       14.084442\n",
       "min        0.000000\n",
       "25%       30.800000\n",
       "50%       40.200000\n",
       "75%       50.600000\n",
       "max       91.200000"
      ]
     },
     "execution_count": 193,
     "metadata": {},
     "output_type": "execute_result"
    }
   ],
   "source": [
    "negros2 = tabela2[tabela2['QE_I02'] == 'B']\n",
    "print(negros2)\n",
    "negros2.describe()"
   ]
  },
  {
   "cell_type": "code",
   "execution_count": 194,
   "metadata": {},
   "outputs": [
    {
     "name": "stdout",
     "output_type": "stream",
     "text": [
      "       QE_I02 QE_I05 QE_I08 QE_I17  NT_GER\n",
      "1           A      B      D      A    59.3\n",
      "2           A      D      E      A    60.9\n",
      "3           A      D      D      A    25.0\n",
      "5           A      D      F      A    40.0\n",
      "6           A      F      E      A    55.1\n",
      "...       ...    ...    ...    ...     ...\n",
      "548105      A      D      B      E    11.5\n",
      "548111      A      D      D      B    26.5\n",
      "548112      A      A      A      A    59.0\n",
      "548117      A      C      F      A    32.8\n",
      "548120      A      B      B      A    35.1\n",
      "\n",
      "[247943 rows x 5 columns]\n"
     ]
    },
    {
     "data": {
      "text/html": [
       "<div>\n",
       "<style scoped>\n",
       "    .dataframe tbody tr th:only-of-type {\n",
       "        vertical-align: middle;\n",
       "    }\n",
       "\n",
       "    .dataframe tbody tr th {\n",
       "        vertical-align: top;\n",
       "    }\n",
       "\n",
       "    .dataframe thead th {\n",
       "        text-align: right;\n",
       "    }\n",
       "</style>\n",
       "<table border=\"1\" class=\"dataframe\">\n",
       "  <thead>\n",
       "    <tr style=\"text-align: right;\">\n",
       "      <th></th>\n",
       "      <th>NT_GER</th>\n",
       "    </tr>\n",
       "  </thead>\n",
       "  <tbody>\n",
       "    <tr>\n",
       "      <th>count</th>\n",
       "      <td>247943.000000</td>\n",
       "    </tr>\n",
       "    <tr>\n",
       "      <th>mean</th>\n",
       "      <td>42.970851</td>\n",
       "    </tr>\n",
       "    <tr>\n",
       "      <th>std</th>\n",
       "      <td>14.579095</td>\n",
       "    </tr>\n",
       "    <tr>\n",
       "      <th>min</th>\n",
       "      <td>0.000000</td>\n",
       "    </tr>\n",
       "    <tr>\n",
       "      <th>25%</th>\n",
       "      <td>32.300000</td>\n",
       "    </tr>\n",
       "    <tr>\n",
       "      <th>50%</th>\n",
       "      <td>42.300000</td>\n",
       "    </tr>\n",
       "    <tr>\n",
       "      <th>75%</th>\n",
       "      <td>53.200000</td>\n",
       "    </tr>\n",
       "    <tr>\n",
       "      <th>max</th>\n",
       "      <td>92.800000</td>\n",
       "    </tr>\n",
       "  </tbody>\n",
       "</table>\n",
       "</div>"
      ],
      "text/plain": [
       "              NT_GER\n",
       "count  247943.000000\n",
       "mean       42.970851\n",
       "std        14.579095\n",
       "min         0.000000\n",
       "25%        32.300000\n",
       "50%        42.300000\n",
       "75%        53.200000\n",
       "max        92.800000"
      ]
     },
     "execution_count": 194,
     "metadata": {},
     "output_type": "execute_result"
    }
   ],
   "source": [
    "brancos2 = tabela2[tabela2['QE_I02'] == 'A']\n",
    "print(brancos2)\n",
    "brancos2.describe()"
   ]
  },
  {
   "cell_type": "code",
   "execution_count": 195,
   "metadata": {},
   "outputs": [
    {
     "name": "stdout",
     "output_type": "stream",
     "text": [
      "       QE_I02 QE_I05 QE_I08 QE_I17  NT_GER\n",
      "0           D      D      C      A    42.8\n",
      "9           D      C      C      A    50.6\n",
      "13          D      B      C      A    42.1\n",
      "17          D      B      D      A    38.9\n",
      "42          D      C      C      A    22.5\n",
      "...       ...    ...    ...    ...     ...\n",
      "548082      D      C      C      A    40.5\n",
      "548084      D      B      B      A    18.7\n",
      "548088      D      D      A      A    39.2\n",
      "548091      D      D      C      A    26.0\n",
      "548115      D      D      B      A    32.0\n",
      "\n",
      "[149599 rows x 5 columns]\n"
     ]
    },
    {
     "data": {
      "text/html": [
       "<div>\n",
       "<style scoped>\n",
       "    .dataframe tbody tr th:only-of-type {\n",
       "        vertical-align: middle;\n",
       "    }\n",
       "\n",
       "    .dataframe tbody tr th {\n",
       "        vertical-align: top;\n",
       "    }\n",
       "\n",
       "    .dataframe thead th {\n",
       "        text-align: right;\n",
       "    }\n",
       "</style>\n",
       "<table border=\"1\" class=\"dataframe\">\n",
       "  <thead>\n",
       "    <tr style=\"text-align: right;\">\n",
       "      <th></th>\n",
       "      <th>NT_GER</th>\n",
       "    </tr>\n",
       "  </thead>\n",
       "  <tbody>\n",
       "    <tr>\n",
       "      <th>count</th>\n",
       "      <td>149599.000000</td>\n",
       "    </tr>\n",
       "    <tr>\n",
       "      <th>mean</th>\n",
       "      <td>40.132649</td>\n",
       "    </tr>\n",
       "    <tr>\n",
       "      <th>std</th>\n",
       "      <td>13.916990</td>\n",
       "    </tr>\n",
       "    <tr>\n",
       "      <th>min</th>\n",
       "      <td>0.000000</td>\n",
       "    </tr>\n",
       "    <tr>\n",
       "      <th>25%</th>\n",
       "      <td>30.000000</td>\n",
       "    </tr>\n",
       "    <tr>\n",
       "      <th>50%</th>\n",
       "      <td>39.200000</td>\n",
       "    </tr>\n",
       "    <tr>\n",
       "      <th>75%</th>\n",
       "      <td>49.500000</td>\n",
       "    </tr>\n",
       "    <tr>\n",
       "      <th>max</th>\n",
       "      <td>93.700000</td>\n",
       "    </tr>\n",
       "  </tbody>\n",
       "</table>\n",
       "</div>"
      ],
      "text/plain": [
       "              NT_GER\n",
       "count  149599.000000\n",
       "mean       40.132649\n",
       "std        13.916990\n",
       "min         0.000000\n",
       "25%        30.000000\n",
       "50%        39.200000\n",
       "75%        49.500000\n",
       "max        93.700000"
      ]
     },
     "execution_count": 195,
     "metadata": {},
     "output_type": "execute_result"
    }
   ],
   "source": [
    "pardos2 = tabela2[tabela2['QE_I02'] == 'D']\n",
    "print(pardos2)\n",
    "pardos2.describe()"
   ]
  },
  {
   "cell_type": "code",
   "execution_count": 196,
   "metadata": {},
   "outputs": [
    {
     "name": "stdout",
     "output_type": "stream",
     "text": [
      "       QE_I02 QE_I05 QE_I08 QE_I17  NT_GER\n",
      "60          D      A      E      A    45.5\n",
      "72          A      A      E      A    67.6\n",
      "158         A      A      B      A    35.4\n",
      "173         A      A      A      A    52.8\n",
      "177         A      A      A      A    38.3\n",
      "...       ...    ...    ...    ...     ...\n",
      "547927      A      A      A      A    29.2\n",
      "548015      A      A      A      A    44.7\n",
      "548024      A      A      A      A    44.7\n",
      "548044      A      A      A      A    26.3\n",
      "548112      A      A      A      A    59.0\n",
      "\n",
      "[27852 rows x 5 columns]\n"
     ]
    },
    {
     "data": {
      "text/html": [
       "<div>\n",
       "<style scoped>\n",
       "    .dataframe tbody tr th:only-of-type {\n",
       "        vertical-align: middle;\n",
       "    }\n",
       "\n",
       "    .dataframe tbody tr th {\n",
       "        vertical-align: top;\n",
       "    }\n",
       "\n",
       "    .dataframe thead th {\n",
       "        text-align: right;\n",
       "    }\n",
       "</style>\n",
       "<table border=\"1\" class=\"dataframe\">\n",
       "  <thead>\n",
       "    <tr style=\"text-align: right;\">\n",
       "      <th></th>\n",
       "      <th>NT_GER</th>\n",
       "    </tr>\n",
       "  </thead>\n",
       "  <tbody>\n",
       "    <tr>\n",
       "      <th>count</th>\n",
       "      <td>27852.000000</td>\n",
       "    </tr>\n",
       "    <tr>\n",
       "      <th>mean</th>\n",
       "      <td>39.408247</td>\n",
       "    </tr>\n",
       "    <tr>\n",
       "      <th>std</th>\n",
       "      <td>14.077630</td>\n",
       "    </tr>\n",
       "    <tr>\n",
       "      <th>min</th>\n",
       "      <td>0.000000</td>\n",
       "    </tr>\n",
       "    <tr>\n",
       "      <th>25%</th>\n",
       "      <td>29.100000</td>\n",
       "    </tr>\n",
       "    <tr>\n",
       "      <th>50%</th>\n",
       "      <td>38.300000</td>\n",
       "    </tr>\n",
       "    <tr>\n",
       "      <th>75%</th>\n",
       "      <td>48.900000</td>\n",
       "    </tr>\n",
       "    <tr>\n",
       "      <th>max</th>\n",
       "      <td>90.400000</td>\n",
       "    </tr>\n",
       "  </tbody>\n",
       "</table>\n",
       "</div>"
      ],
      "text/plain": [
       "             NT_GER\n",
       "count  27852.000000\n",
       "mean      39.408247\n",
       "std       14.077630\n",
       "min        0.000000\n",
       "25%       29.100000\n",
       "50%       38.300000\n",
       "75%       48.900000\n",
       "max       90.400000"
      ]
     },
     "execution_count": 196,
     "metadata": {},
     "output_type": "execute_result"
    }
   ],
   "source": [
    "ecolaridadeMaeNenhuma2 = tabela2[tabela2['QE_I05'] == 'A']\n",
    "print(ecolaridadeMaeNenhuma2)\n",
    "ecolaridadeMaeNenhuma2.describe()\n"
   ]
  },
  {
   "cell_type": "code",
   "execution_count": 197,
   "metadata": {},
   "outputs": [
    {
     "name": "stdout",
     "output_type": "stream",
     "text": [
      "       QE_I02 QE_I05 QE_I08 QE_I17  NT_GER\n",
      "6           A      F      E      A    55.1\n",
      "12          A      F      D      A    43.5\n",
      "30          A      F      D      A    52.4\n",
      "44          A      F      B      B    22.6\n",
      "61          A      F      B      A    25.1\n",
      "...       ...    ...    ...    ...     ...\n",
      "548025      A      F      F      B    40.6\n",
      "548057      D      F      F      B    43.6\n",
      "548058      A      F      F      D    22.6\n",
      "548069      A      F      D      A    15.7\n",
      "548078      D      F      C      D    36.9\n",
      "\n",
      "[36579 rows x 5 columns]\n"
     ]
    },
    {
     "data": {
      "text/html": [
       "<div>\n",
       "<style scoped>\n",
       "    .dataframe tbody tr th:only-of-type {\n",
       "        vertical-align: middle;\n",
       "    }\n",
       "\n",
       "    .dataframe tbody tr th {\n",
       "        vertical-align: top;\n",
       "    }\n",
       "\n",
       "    .dataframe thead th {\n",
       "        text-align: right;\n",
       "    }\n",
       "</style>\n",
       "<table border=\"1\" class=\"dataframe\">\n",
       "  <thead>\n",
       "    <tr style=\"text-align: right;\">\n",
       "      <th></th>\n",
       "      <th>NT_GER</th>\n",
       "    </tr>\n",
       "  </thead>\n",
       "  <tbody>\n",
       "    <tr>\n",
       "      <th>count</th>\n",
       "      <td>36579.000000</td>\n",
       "    </tr>\n",
       "    <tr>\n",
       "      <th>mean</th>\n",
       "      <td>46.730050</td>\n",
       "    </tr>\n",
       "    <tr>\n",
       "      <th>std</th>\n",
       "      <td>15.321254</td>\n",
       "    </tr>\n",
       "    <tr>\n",
       "      <th>min</th>\n",
       "      <td>0.000000</td>\n",
       "    </tr>\n",
       "    <tr>\n",
       "      <th>25%</th>\n",
       "      <td>35.600000</td>\n",
       "    </tr>\n",
       "    <tr>\n",
       "      <th>50%</th>\n",
       "      <td>46.700000</td>\n",
       "    </tr>\n",
       "    <tr>\n",
       "      <th>75%</th>\n",
       "      <td>58.000000</td>\n",
       "    </tr>\n",
       "    <tr>\n",
       "      <th>max</th>\n",
       "      <td>93.700000</td>\n",
       "    </tr>\n",
       "  </tbody>\n",
       "</table>\n",
       "</div>"
      ],
      "text/plain": [
       "             NT_GER\n",
       "count  36579.000000\n",
       "mean      46.730050\n",
       "std       15.321254\n",
       "min        0.000000\n",
       "25%       35.600000\n",
       "50%       46.700000\n",
       "75%       58.000000\n",
       "max       93.700000"
      ]
     },
     "execution_count": 197,
     "metadata": {},
     "output_type": "execute_result"
    }
   ],
   "source": [
    "ecolaridadeMaePos2 = tabela2[tabela2['QE_I05'] == 'F']\n",
    "print(ecolaridadeMaePos2)\n",
    "ecolaridadeMaePos2.describe()"
   ]
  },
  {
   "cell_type": "code",
   "execution_count": 198,
   "metadata": {},
   "outputs": [
    {
     "name": "stdout",
     "output_type": "stream",
     "text": [
      "       QE_I02 QE_I05 QE_I08 QE_I17  NT_GER\n",
      "0           D      D      C      A    42.8\n",
      "1           A      B      D      A    59.3\n",
      "2           A      D      E      A    60.9\n",
      "3           A      D      D      A    25.0\n",
      "4           B      C      E      A    42.4\n",
      "...       ...    ...    ...    ...     ...\n",
      "548097      A      D      E      A    29.7\n",
      "548112      A      A      A      A    59.0\n",
      "548115      D      D      B      A    32.0\n",
      "548117      A      C      F      A    32.8\n",
      "548120      A      B      B      A    35.1\n",
      "\n",
      "[308368 rows x 5 columns]\n"
     ]
    },
    {
     "data": {
      "text/html": [
       "<div>\n",
       "<style scoped>\n",
       "    .dataframe tbody tr th:only-of-type {\n",
       "        vertical-align: middle;\n",
       "    }\n",
       "\n",
       "    .dataframe tbody tr th {\n",
       "        vertical-align: top;\n",
       "    }\n",
       "\n",
       "    .dataframe thead th {\n",
       "        text-align: right;\n",
       "    }\n",
       "</style>\n",
       "<table border=\"1\" class=\"dataframe\">\n",
       "  <thead>\n",
       "    <tr style=\"text-align: right;\">\n",
       "      <th></th>\n",
       "      <th>NT_GER</th>\n",
       "    </tr>\n",
       "  </thead>\n",
       "  <tbody>\n",
       "    <tr>\n",
       "      <th>count</th>\n",
       "      <td>308368.000000</td>\n",
       "    </tr>\n",
       "    <tr>\n",
       "      <th>mean</th>\n",
       "      <td>40.347948</td>\n",
       "    </tr>\n",
       "    <tr>\n",
       "      <th>std</th>\n",
       "      <td>13.802317</td>\n",
       "    </tr>\n",
       "    <tr>\n",
       "      <th>min</th>\n",
       "      <td>0.000000</td>\n",
       "    </tr>\n",
       "    <tr>\n",
       "      <th>25%</th>\n",
       "      <td>30.300000</td>\n",
       "    </tr>\n",
       "    <tr>\n",
       "      <th>50%</th>\n",
       "      <td>39.500000</td>\n",
       "    </tr>\n",
       "    <tr>\n",
       "      <th>75%</th>\n",
       "      <td>49.700000</td>\n",
       "    </tr>\n",
       "    <tr>\n",
       "      <th>max</th>\n",
       "      <td>92.800000</td>\n",
       "    </tr>\n",
       "  </tbody>\n",
       "</table>\n",
       "</div>"
      ],
      "text/plain": [
       "              NT_GER\n",
       "count  308368.000000\n",
       "mean       40.347948\n",
       "std        13.802317\n",
       "min         0.000000\n",
       "25%        30.300000\n",
       "50%        39.500000\n",
       "75%        49.700000\n",
       "max        92.800000"
      ]
     },
     "execution_count": 198,
     "metadata": {},
     "output_type": "execute_result"
    }
   ],
   "source": [
    "estudouEscPublica2 = tabela2[tabela2['QE_I17'] == 'A']\n",
    "print(estudouEscPublica2)\n",
    "estudouEscPublica2.describe()"
   ]
  },
  {
   "cell_type": "code",
   "execution_count": 199,
   "metadata": {},
   "outputs": [
    {
     "name": "stdout",
     "output_type": "stream",
     "text": [
      "       QE_I02 QE_I05 QE_I08 QE_I17  NT_GER\n",
      "21          A      D      G      B    51.5\n",
      "33          A      E      G      B    49.6\n",
      "44          A      F      B      B    22.6\n",
      "56          A      D      F      B    35.5\n",
      "64          D      D      F      B    82.8\n",
      "...       ...    ...    ...    ...     ...\n",
      "548040      A      D      C      B    44.3\n",
      "548057      D      F      F      B    43.6\n",
      "548081      D      D      F      B    27.7\n",
      "548096      A      D      E      B    33.4\n",
      "548111      A      D      D      B    26.5\n",
      "\n",
      "[108793 rows x 5 columns]\n"
     ]
    },
    {
     "data": {
      "text/html": [
       "<div>\n",
       "<style scoped>\n",
       "    .dataframe tbody tr th:only-of-type {\n",
       "        vertical-align: middle;\n",
       "    }\n",
       "\n",
       "    .dataframe tbody tr th {\n",
       "        vertical-align: top;\n",
       "    }\n",
       "\n",
       "    .dataframe thead th {\n",
       "        text-align: right;\n",
       "    }\n",
       "</style>\n",
       "<table border=\"1\" class=\"dataframe\">\n",
       "  <thead>\n",
       "    <tr style=\"text-align: right;\">\n",
       "      <th></th>\n",
       "      <th>NT_GER</th>\n",
       "    </tr>\n",
       "  </thead>\n",
       "  <tbody>\n",
       "    <tr>\n",
       "      <th>count</th>\n",
       "      <td>108793.000000</td>\n",
       "    </tr>\n",
       "    <tr>\n",
       "      <th>mean</th>\n",
       "      <td>46.426158</td>\n",
       "    </tr>\n",
       "    <tr>\n",
       "      <th>std</th>\n",
       "      <td>15.073678</td>\n",
       "    </tr>\n",
       "    <tr>\n",
       "      <th>min</th>\n",
       "      <td>0.000000</td>\n",
       "    </tr>\n",
       "    <tr>\n",
       "      <th>25%</th>\n",
       "      <td>35.500000</td>\n",
       "    </tr>\n",
       "    <tr>\n",
       "      <th>50%</th>\n",
       "      <td>46.400000</td>\n",
       "    </tr>\n",
       "    <tr>\n",
       "      <th>75%</th>\n",
       "      <td>57.400000</td>\n",
       "    </tr>\n",
       "    <tr>\n",
       "      <th>max</th>\n",
       "      <td>93.700000</td>\n",
       "    </tr>\n",
       "  </tbody>\n",
       "</table>\n",
       "</div>"
      ],
      "text/plain": [
       "              NT_GER\n",
       "count  108793.000000\n",
       "mean       46.426158\n",
       "std        15.073678\n",
       "min         0.000000\n",
       "25%        35.500000\n",
       "50%        46.400000\n",
       "75%        57.400000\n",
       "max        93.700000"
      ]
     },
     "execution_count": 199,
     "metadata": {},
     "output_type": "execute_result"
    }
   ],
   "source": [
    "estudouEscParticular2 = tabela2[tabela2['QE_I17'] == 'B']\n",
    "print(estudouEscParticular2)\n",
    "estudouEscParticular2.describe()"
   ]
  },
  {
   "cell_type": "code",
   "execution_count": 200,
   "metadata": {},
   "outputs": [
    {
     "name": "stdout",
     "output_type": "stream",
     "text": [
      "       QE_I02 QE_I05 QE_I08 QE_I17  NT_GER\n",
      "4490        C      D      B      C    49.0\n",
      "7333        C      E      E      C    56.5\n",
      "8919        F      E      C      C    65.9\n",
      "10339       F      D      A      C    49.2\n",
      "11174       A      E      F      C    27.5\n",
      "...       ...    ...    ...    ...     ...\n",
      "541420      A      F      F      C    44.2\n",
      "541723      A      D      B      C    24.3\n",
      "543754      D      C      C      C    48.4\n",
      "545772      B      C      B      C    39.7\n",
      "546466      C      E      F      C    41.2\n",
      "\n",
      "[469 rows x 5 columns]\n"
     ]
    },
    {
     "data": {
      "text/html": [
       "<div>\n",
       "<style scoped>\n",
       "    .dataframe tbody tr th:only-of-type {\n",
       "        vertical-align: middle;\n",
       "    }\n",
       "\n",
       "    .dataframe tbody tr th {\n",
       "        vertical-align: top;\n",
       "    }\n",
       "\n",
       "    .dataframe thead th {\n",
       "        text-align: right;\n",
       "    }\n",
       "</style>\n",
       "<table border=\"1\" class=\"dataframe\">\n",
       "  <thead>\n",
       "    <tr style=\"text-align: right;\">\n",
       "      <th></th>\n",
       "      <th>NT_GER</th>\n",
       "    </tr>\n",
       "  </thead>\n",
       "  <tbody>\n",
       "    <tr>\n",
       "      <th>count</th>\n",
       "      <td>469.000000</td>\n",
       "    </tr>\n",
       "    <tr>\n",
       "      <th>mean</th>\n",
       "      <td>43.857783</td>\n",
       "    </tr>\n",
       "    <tr>\n",
       "      <th>std</th>\n",
       "      <td>15.066125</td>\n",
       "    </tr>\n",
       "    <tr>\n",
       "      <th>min</th>\n",
       "      <td>7.000000</td>\n",
       "    </tr>\n",
       "    <tr>\n",
       "      <th>25%</th>\n",
       "      <td>33.100000</td>\n",
       "    </tr>\n",
       "    <tr>\n",
       "      <th>50%</th>\n",
       "      <td>43.200000</td>\n",
       "    </tr>\n",
       "    <tr>\n",
       "      <th>75%</th>\n",
       "      <td>54.300000</td>\n",
       "    </tr>\n",
       "    <tr>\n",
       "      <th>max</th>\n",
       "      <td>83.000000</td>\n",
       "    </tr>\n",
       "  </tbody>\n",
       "</table>\n",
       "</div>"
      ],
      "text/plain": [
       "           NT_GER\n",
       "count  469.000000\n",
       "mean    43.857783\n",
       "std     15.066125\n",
       "min      7.000000\n",
       "25%     33.100000\n",
       "50%     43.200000\n",
       "75%     54.300000\n",
       "max     83.000000"
      ]
     },
     "execution_count": 200,
     "metadata": {},
     "output_type": "execute_result"
    }
   ],
   "source": [
    "estudouExterior2 = tabela2[tabela2['QE_I17'] == 'C']\n",
    "print(estudouExterior2)\n",
    "estudouExterior2.describe()"
   ]
  },
  {
   "cell_type": "code",
   "execution_count": 201,
   "metadata": {},
   "outputs": [],
   "source": [
    "tabela2['QE_I02'] = tabela2['QE_I02'].map({'A': 0, 'B': 1, 'C' : 2, 'D' : 3, 'E' : 4, 'F' : 5})\n",
    "tabela2['QE_I05'] = tabela2['QE_I05'].map({'A': 0, 'B': 1, 'C' : 2, 'D' : 3, 'E' : 4, 'F' : 5})\n",
    "tabela2['QE_I08'] = tabela2['QE_I08'].map({'A': 0, 'B': 1, 'C' : 2, 'D' : 3, 'E' : 4, 'F' : 5, 'G' : 6})\n"
   ]
  },
  {
   "cell_type": "code",
   "execution_count": 202,
   "metadata": {},
   "outputs": [
    {
     "data": {
      "image/png": "[encoded data removed]",
      "text/plain": [
       "<Figure size 432x288 with 1 Axes>"
      ]
     },
     "metadata": {
      "needs_background": "light"
     },
     "output_type": "display_data"
    }
   ],
   "source": [
    "#Escolaridade da mae\n",
    "plt.scatter( tabela2.NT_GER, tabela2.QE_I05, c = 'red')\n",
    "plt.xlabel('Nota')\n",
    "plt.ylabel('Escolaridade da mãe')\n",
    "plt.show()"
   ]
  },
  {
   "cell_type": "code",
   "execution_count": 203,
   "metadata": {},
   "outputs": [
    {
     "data": {
      "image/png": "[encoded data removed]",
      "text/plain": [
       "<Figure size 432x288 with 1 Axes>"
      ]
     },
     "metadata": {
      "needs_background": "light"
     },
     "output_type": "display_data"
    }
   ],
   "source": [
    "#Renda familiar\n",
    "plt.scatter( tabela2.NT_GER, tabela2.QE_I08, c = 'blue')\n",
    "plt.xlabel('Nota')\n",
    "plt.ylabel('Renda familiar')\n",
    "plt.show()"
   ]
  },
  {
   "cell_type": "code",
   "execution_count": 204,
   "metadata": {},
   "outputs": [
    {
     "data": {
      "text/plain": [
       "<AxesSubplot:title={'center':'NT_GER'}, xlabel='[QE_I08]'>"
      ]
     },
     "execution_count": 204,
     "metadata": {},
     "output_type": "execute_result"
    },
    {
     "data": {
      "image/png": "[encoded data removed]",
      "text/plain": [
       "<Figure size 432x288 with 1 Axes>"
      ]
     },
     "metadata": {
      "needs_background": "light"
     },
     "output_type": "display_data"
    }
   ],
   "source": [
    "rendaFam2= pd.DataFrame(tabela2, columns=['NT_GER', 'QE_I08'])\n",
    "rendaFam2.boxplot(by='QE_I08')"
   ]
  },
  {
   "cell_type": "code",
   "execution_count": 205,
   "metadata": {},
   "outputs": [
    {
     "data": {
      "text/plain": [
       "<AxesSubplot:title={'center':'NT_GER'}, xlabel='[QE_I02]'>"
      ]
     },
     "execution_count": 205,
     "metadata": {},
     "output_type": "execute_result"
    },
    {
     "data": {
      "image/png": "[encoded data removed]",
      "text/plain": [
       "<Figure size 432x288 with 1 Axes>"
      ]
     },
     "metadata": {
      "needs_background": "light"
     },
     "output_type": "display_data"
    }
   ],
   "source": [
    "cor2= pd.DataFrame(tabela2, columns=['NT_GER', 'QE_I02'])\n",
    "cor2.boxplot(by='QE_I02')"
   ]
  },
  {
   "cell_type": "code",
   "execution_count": 206,
   "metadata": {},
   "outputs": [
    {
     "data": {
      "image/png": "[encoded data removed]",
      "text/plain": [
       "<Figure size 432x288 with 1 Axes>"
      ]
     },
     "metadata": {
      "needs_background": "light"
     },
     "output_type": "display_data"
    }
   ],
   "source": [
    "plt.hist(negros2['NT_GER'], color = 'green')\n",
    "plt.xlabel('Nota Geral Alunos Negros')\n",
    "plt.ylabel('Número de Alunos')\n",
    "plt.show()"
   ]
  },
  {
   "cell_type": "code",
   "execution_count": 207,
   "metadata": {},
   "outputs": [
    {
     "data": {
      "image/png": "[encoded data removed]",
      "text/plain": [
       "<Figure size 432x288 with 1 Axes>"
      ]
     },
     "metadata": {
      "needs_background": "light"
     },
     "output_type": "display_data"
    }
   ],
   "source": [
    "plt.hist(brancos2['NT_GER'], color = 'blue')\n",
    "plt.xlabel('Nota Geral Alunos Brancos')\n",
    "plt.ylabel('Número de Alunos')\n",
    "plt.show()"
   ]
  },
  {
   "cell_type": "code",
   "execution_count": 212,
   "metadata": {},
   "outputs": [
    {
     "name": "stdout",
     "output_type": "stream",
     "text": [
      "R2 no set de treino: 0.01\n",
      "R2 no set de teste: 0.01\n"
     ]
    }
   ],
   "source": [
    "#REgressão\n",
    "from sklearn.model_selection import train_test_split\n",
    "import time\n",
    "from sklearn import linear_model\n",
    "\n",
    "from sklearn.datasets import load_boston # para carregar os dados from sklearn.model_selection import train_test_split\n",
    "from sklearn.linear_model import LinearRegression # importa o modelo\n",
    "\n",
    "X = tabela['QE_I02 - Grupos Cor Pele']\n",
    "y = tabela['NT_GER']\n",
    "\n",
    "\n",
    "X_train, X_test, y_train, y_test = train_test_split(X, y, test_size=0.50, random_state=42)\n",
    "\n",
    "X_train = X_train.array.to_numpy().reshape(-1,1)\n",
    "X_test = X_test.array.to_numpy().reshape(-1,1)\n",
    "\n",
    "y_test = y_test.array.to_numpy().reshape(-1,1)\n",
    "\n",
    "\n",
    "regr = LinearRegression() # cria o modelo \n",
    "regr.fit(X_train, y_train) # treina o modelo\n",
    "\n",
    "r2_train = regr.score(X_train, y_train)\n",
    "r2_test = regr.score(X_test, y_test)\n",
    "\n",
    "print('R2 no set de treino: %.2f' % r2_train)\n",
    "print('R2 no set de teste: %.2f' % r2_test)\n",
    "\n"
   ]
  },
  {
   "cell_type": "code",
   "execution_count": 213,
   "metadata": {},
   "outputs": [
    {
     "data": {
      "text/plain": [
       "[<matplotlib.lines.Line2D at 0x2ad1016ee48>]"
      ]
     },
     "execution_count": 213,
     "metadata": {},
     "output_type": "execute_result"
    },
    {
     "data": {
      "image/png": "[encoded data removed]",
      "text/plain": [
       "<Figure size 432x288 with 1 Axes>"
      ]
     },
     "metadata": {
      "needs_background": "light"
     },
     "output_type": "display_data"
    }
   ],
   "source": [
    "corPele_y_pred = regr.predict(X_test)\n",
    "\n",
    "\n",
    "plt.scatter(X_test,y_test,  color='green')\n",
    "plt.plot(X_test, corPele_y_pred, color='black', linewidth=3)\n"
   ]
  },
  {
   "cell_type": "code",
   "execution_count": null,
   "metadata": {},
   "outputs": [],
   "source": []
  }
 ],
 "metadata": {
  "kernelspec": {
   "display_name": "Python 3",
   "language": "python",
   "name": "python3"
  },
  "language_info": {
   "codemirror_mode": {
    "name": "ipython",
    "version": 3
   },
   "file_extension": ".py",
   "mimetype": "text/x-python",
   "name": "python",
   "nbconvert_exporter": "python",
   "pygments_lexer": "ipython3",
   "version": "3.7.3"
  }
 },
 "nbformat": 4,
 "nbformat_minor": 4
}
