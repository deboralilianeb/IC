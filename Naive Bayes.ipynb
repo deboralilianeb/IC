{
 "cells": [
  {
   "cell_type": "code",
   "execution_count": 4,
   "metadata": {},
   "outputs": [],
   "source": [
    "import pandas as pd\n",
    "import numpy as np\n",
    "import matplotlib.pyplot as plt\n",
    "import time\n",
    "from sklearn.model_selection import train_test_split\n",
    "from sklearn.naive_bayes import GaussianNB, BernoulliNB, MultinomialNB\n",
    "# Importing dataset\n",
    "data = pd.read_csv(\"train.csv\")\n",
    "\n",
    "# Converter variável categórica em numérica\n",
    "data[\"Sex_cleaned\"]=np.where(data[\"Sex\"]==\"male\",0,1)\n",
    "data[\"Embarked_cleaned\"]=np.where(data[\"Embarked\"]==\"S\",0,\n",
    "                                  np.where(data[\"Embarked\"]==\"C\",1,\n",
    "                                           np.where(data[\"Embarked\"]==\"Q\",2,3)\n",
    "                                          )\n",
    "                                 )\n",
    "# Limpeza do conjunto de dados  vazio\n",
    "data=data[[\n",
    "    \"Survived\",\n",
    "    \"Pclass\",\n",
    "    \"Sex_cleaned\",\n",
    "    \"Age\",\n",
    "    \"SibSp\",\n",
    "    \"Parch\",\n",
    "    \"Fare\",\n",
    "    \"Embarked_cleaned\"\n",
    "]].dropna(axis=0, how='any')\n",
    "\n",
    "# Dividindo o conjunto de dados em conjuntos de dados de treinamento e teste\n",
    "X_train, X_test = train_test_split(data, test_size=0.5, random_state=int(time.time()))"
   ]
  },
  {
   "cell_type": "code",
   "execution_count": null,
   "metadata": {},
   "outputs": [],
   "source": []
  },
  {
   "cell_type": "code",
   "execution_count": 6,
   "metadata": {},
   "outputs": [
    {
     "name": "stdout",
     "output_type": "stream",
     "text": [
      " Número de pontos errados de um total de  357 pontos : 75, performance 78.99%\n"
     ]
    }
   ],
   "source": [
    "# Instanciando o classificador\n",
    "gnb = GaussianNB()\n",
    "used_features =[\n",
    "    \"Pclass\",\n",
    "    \"Sex_cleaned\",\n",
    "    \"Age\",\n",
    "    \"SibSp\",\n",
    "    \"Parch\",\n",
    "    \"Fare\",\n",
    "    \"Embarked_cleaned\"\n",
    "]\n",
    "# Treinando o classificador\n",
    "gnb.fit(\n",
    "    X_train[used_features].values,\n",
    "    X_train[\"Survived\"]\n",
    ")\n",
    "y_pred = gnb.predict(X_test[used_features])\n",
    "\n",
    "# Mostrando os resultados\n",
    "print(\" Número de pontos errados de um total de  {} pontos : {}, performance {:05.2f}%\"\n",
    "      .format(\n",
    "          X_test.shape[0],\n",
    "          (X_test[\"Survived\"] != y_pred).sum(),\n",
    "          100*(1-(X_test[\"Survived\"] != y_pred).sum()/X_test.shape[0])\n",
    "))"
   ]
  },
  {
   "cell_type": "code",
   "execution_count": 8,
   "metadata": {},
   "outputs": [
    {
     "name": "stdout",
     "output_type": "stream",
     "text": [
      "Sobreviver probabilidade = 39.22%, Não sobreviver probabilidade = 60.78%\n"
     ]
    }
   ],
   "source": [
    "#Aqui calculamos as probabilidades P (Sobrevivência = 1) e P (Sobrevivência = 0):\n",
    "mean_survival=np.mean(X_train[\"Survived\"])\n",
    "mean_not_survival=1-mean_survival\n",
    "print(\"Sobreviver probabilidade = {:03.2f}%, Não sobreviver probabilidade = {:03.2f}%\"\n",
    "      .format(100*mean_survival,100*mean_not_survival))\n"
   ]
  },
  {
   "cell_type": "code",
   "execution_count": null,
   "metadata": {},
   "outputs": [],
   "source": []
  }
 ],
 "metadata": {
  "kernelspec": {
   "display_name": "Python 3",
   "language": "python",
   "name": "python3"
  },
  "language_info": {
   "codemirror_mode": {
    "name": "ipython",
    "version": 3
   },
   "file_extension": ".py",
   "mimetype": "text/x-python",
   "name": "python",
   "nbconvert_exporter": "python",
   "pygments_lexer": "ipython3",
   "version": "3.7.3"
  }
 },
 "nbformat": 4,
 "nbformat_minor": 4
}
